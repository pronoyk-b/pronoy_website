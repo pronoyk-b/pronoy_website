{
 "cells": [
  {
   "cell_type": "markdown",
   "id": "d800c3ec",
   "metadata": {},
   "source": [
    "## Basic Operations<br>\n",
    "#### Import Libraries"
   ]
  },
  {
   "cell_type": "code",
   "execution_count": 1,
   "id": "4bfe7c2e",
   "metadata": {},
   "outputs": [],
   "source": [
    "import numpy as np\n",
    "import pandas as pd\n",
    "import matplotlib.pyplot as plt\n",
    "import seaborn as sns\n",
    "%matplotlib inline\n",
    "\n",
    "from sklearn.metrics import mean_absolute_error, mean_squared_error, r2_score\n",
    "from sklearn.model_selection import GridSearchCV\n",
    "from sklearn.model_selection import KFold"
   ]
  },
  {
   "cell_type": "markdown",
   "id": "30e2dbf5",
   "metadata": {},
   "source": [
    "#### Reading datasets"
   ]
  },
  {
   "cell_type": "code",
   "execution_count": 2,
   "id": "7b57dd89",
   "metadata": {},
   "outputs": [],
   "source": [
    "train_df=pd.read_csv(\"Boston_Train.csv\")\n",
    "test_df=pd.read_csv(\"Boston_Test.csv\")"
   ]
  },
  {
   "cell_type": "markdown",
   "id": "966ac812",
   "metadata": {},
   "source": [
    "#### Concating train and test datasets"
   ]
  },
  {
   "cell_type": "code",
   "execution_count": 3,
   "id": "621e0695",
   "metadata": {},
   "outputs": [
    {
     "data": {
      "text/html": [
       "<div>\n",
       "<style scoped>\n",
       "    .dataframe tbody tr th:only-of-type {\n",
       "        vertical-align: middle;\n",
       "    }\n",
       "\n",
       "    .dataframe tbody tr th {\n",
       "        vertical-align: top;\n",
       "    }\n",
       "\n",
       "    .dataframe thead th {\n",
       "        text-align: right;\n",
       "    }\n",
       "</style>\n",
       "<table border=\"1\" class=\"dataframe\">\n",
       "  <thead>\n",
       "    <tr style=\"text-align: right;\">\n",
       "      <th></th>\n",
       "      <th>Unnamed: 0</th>\n",
       "      <th>crim</th>\n",
       "      <th>zn</th>\n",
       "      <th>indus</th>\n",
       "      <th>chas</th>\n",
       "      <th>nox</th>\n",
       "      <th>rm</th>\n",
       "      <th>age</th>\n",
       "      <th>dis</th>\n",
       "      <th>rad</th>\n",
       "      <th>tax</th>\n",
       "      <th>ptratio</th>\n",
       "      <th>black</th>\n",
       "      <th>lstat</th>\n",
       "      <th>medv</th>\n",
       "    </tr>\n",
       "  </thead>\n",
       "  <tbody>\n",
       "    <tr>\n",
       "      <th>0</th>\n",
       "      <td>0</td>\n",
       "      <td>0.00632</td>\n",
       "      <td>18.0</td>\n",
       "      <td>2.31</td>\n",
       "      <td>0</td>\n",
       "      <td>0.538</td>\n",
       "      <td>6.575</td>\n",
       "      <td>65.2</td>\n",
       "      <td>4.0900</td>\n",
       "      <td>1</td>\n",
       "      <td>296</td>\n",
       "      <td>15.3</td>\n",
       "      <td>396.90</td>\n",
       "      <td>4.98</td>\n",
       "      <td>24.0</td>\n",
       "    </tr>\n",
       "    <tr>\n",
       "      <th>1</th>\n",
       "      <td>1</td>\n",
       "      <td>0.02731</td>\n",
       "      <td>0.0</td>\n",
       "      <td>7.07</td>\n",
       "      <td>0</td>\n",
       "      <td>0.469</td>\n",
       "      <td>6.421</td>\n",
       "      <td>78.9</td>\n",
       "      <td>4.9671</td>\n",
       "      <td>2</td>\n",
       "      <td>242</td>\n",
       "      <td>17.8</td>\n",
       "      <td>396.90</td>\n",
       "      <td>9.14</td>\n",
       "      <td>21.6</td>\n",
       "    </tr>\n",
       "    <tr>\n",
       "      <th>2</th>\n",
       "      <td>2</td>\n",
       "      <td>0.02729</td>\n",
       "      <td>0.0</td>\n",
       "      <td>7.07</td>\n",
       "      <td>0</td>\n",
       "      <td>0.469</td>\n",
       "      <td>7.185</td>\n",
       "      <td>61.1</td>\n",
       "      <td>4.9671</td>\n",
       "      <td>2</td>\n",
       "      <td>242</td>\n",
       "      <td>17.8</td>\n",
       "      <td>392.83</td>\n",
       "      <td>4.03</td>\n",
       "      <td>34.7</td>\n",
       "    </tr>\n",
       "    <tr>\n",
       "      <th>3</th>\n",
       "      <td>3</td>\n",
       "      <td>0.03237</td>\n",
       "      <td>0.0</td>\n",
       "      <td>2.18</td>\n",
       "      <td>0</td>\n",
       "      <td>0.458</td>\n",
       "      <td>6.998</td>\n",
       "      <td>45.8</td>\n",
       "      <td>6.0622</td>\n",
       "      <td>3</td>\n",
       "      <td>222</td>\n",
       "      <td>18.7</td>\n",
       "      <td>394.63</td>\n",
       "      <td>2.94</td>\n",
       "      <td>33.4</td>\n",
       "    </tr>\n",
       "    <tr>\n",
       "      <th>4</th>\n",
       "      <td>4</td>\n",
       "      <td>0.06905</td>\n",
       "      <td>0.0</td>\n",
       "      <td>2.18</td>\n",
       "      <td>0</td>\n",
       "      <td>0.458</td>\n",
       "      <td>7.147</td>\n",
       "      <td>54.2</td>\n",
       "      <td>6.0622</td>\n",
       "      <td>3</td>\n",
       "      <td>222</td>\n",
       "      <td>18.7</td>\n",
       "      <td>396.90</td>\n",
       "      <td>5.33</td>\n",
       "      <td>36.2</td>\n",
       "    </tr>\n",
       "  </tbody>\n",
       "</table>\n",
       "</div>"
      ],
      "text/plain": [
       "   Unnamed: 0     crim    zn  indus  chas    nox     rm   age     dis  rad  \\\n",
       "0           0  0.00632  18.0   2.31     0  0.538  6.575  65.2  4.0900    1   \n",
       "1           1  0.02731   0.0   7.07     0  0.469  6.421  78.9  4.9671    2   \n",
       "2           2  0.02729   0.0   7.07     0  0.469  7.185  61.1  4.9671    2   \n",
       "3           3  0.03237   0.0   2.18     0  0.458  6.998  45.8  6.0622    3   \n",
       "4           4  0.06905   0.0   2.18     0  0.458  7.147  54.2  6.0622    3   \n",
       "\n",
       "   tax  ptratio   black  lstat  medv  \n",
       "0  296     15.3  396.90   4.98  24.0  \n",
       "1  242     17.8  396.90   9.14  21.6  \n",
       "2  242     17.8  392.83   4.03  34.7  \n",
       "3  222     18.7  394.63   2.94  33.4  \n",
       "4  222     18.7  396.90   5.33  36.2  "
      ]
     },
     "execution_count": 3,
     "metadata": {},
     "output_type": "execute_result"
    }
   ],
   "source": [
    "data=pd.concat([train_df, test_df], axis=0)\n",
    "data.head()"
   ]
  },
  {
   "cell_type": "markdown",
   "id": "3cc2e089",
   "metadata": {},
   "source": [
    "#### Dataset details<br>\n",
    "\n",
    "\n",
    "The Boston Housing Dataset is a derived from information collected by the U.S. \n",
    "Census Service concerning housing in the area of Boston MA. The following \n",
    "describes the dataset columns:<br><br>\n",
    "* CRIM - per capita crime rate by town<br>\n",
    "* ZN - proportion of residential land zoned for lots over 25,000 sq. ft.  INDUS - proportion of non-retail business acres per town. <br>\n",
    "* CHAS - Charles River dummy variable (1 if tract bounds river; 0 \n",
    "otherwise)<br>\n",
    "* NOX - nitric oxides concentration (parts per 10 million)<br>\n",
    "* RM - average number of rooms per dwelling<br>\n",
    "* AGE - proportion of owner-occupied units built prior to 1940<br>\n",
    "* DIS - weighted distances to five Boston employment centers<br>\n",
    "* RAD - index of accessibility to radial highways<br>\n",
    "* TAX - full-value property-tax rate per $10,000<br>\n",
    "\n",
    "* PTRATIO - pupil-teacher ratio by town<br>\n",
    "* B - 1000(Bk - 0.63)^2 where Bk is the proportion of blacks by town<br>\n",
    "* LSTAT - % lower status of the population<br>\n",
    "* MEDV - Median value of owner-occupied homes in $1000'<br>"
   ]
  },
  {
   "cell_type": "markdown",
   "id": "13b0fb50",
   "metadata": {},
   "source": [
    "<br>\n",
    "<br><br>\n",
    "<br><br>\n",
    "<br><br>\n",
    "<br>\n",
    "<br>We don't need 1st column (Unnamed:0) since it's a index column that we have already by default. So we should drop it from training and testing data set in order to prevent errors in ML model performance."
   ]
  },
  {
   "cell_type": "code",
   "execution_count": 4,
   "id": "d9cb4cfd",
   "metadata": {},
   "outputs": [
    {
     "data": {
      "text/html": [
       "<div>\n",
       "<style scoped>\n",
       "    .dataframe tbody tr th:only-of-type {\n",
       "        vertical-align: middle;\n",
       "    }\n",
       "\n",
       "    .dataframe tbody tr th {\n",
       "        vertical-align: top;\n",
       "    }\n",
       "\n",
       "    .dataframe thead th {\n",
       "        text-align: right;\n",
       "    }\n",
       "</style>\n",
       "<table border=\"1\" class=\"dataframe\">\n",
       "  <thead>\n",
       "    <tr style=\"text-align: right;\">\n",
       "      <th></th>\n",
       "      <th>crim</th>\n",
       "      <th>zn</th>\n",
       "      <th>indus</th>\n",
       "      <th>chas</th>\n",
       "      <th>nox</th>\n",
       "      <th>rm</th>\n",
       "      <th>age</th>\n",
       "      <th>dis</th>\n",
       "      <th>rad</th>\n",
       "      <th>tax</th>\n",
       "      <th>ptratio</th>\n",
       "      <th>black</th>\n",
       "      <th>lstat</th>\n",
       "      <th>medv</th>\n",
       "    </tr>\n",
       "  </thead>\n",
       "  <tbody>\n",
       "    <tr>\n",
       "      <th>0</th>\n",
       "      <td>0.00632</td>\n",
       "      <td>18.0</td>\n",
       "      <td>2.31</td>\n",
       "      <td>0</td>\n",
       "      <td>0.538</td>\n",
       "      <td>6.575</td>\n",
       "      <td>65.2</td>\n",
       "      <td>4.0900</td>\n",
       "      <td>1</td>\n",
       "      <td>296</td>\n",
       "      <td>15.3</td>\n",
       "      <td>396.90</td>\n",
       "      <td>4.98</td>\n",
       "      <td>24.0</td>\n",
       "    </tr>\n",
       "    <tr>\n",
       "      <th>1</th>\n",
       "      <td>0.02731</td>\n",
       "      <td>0.0</td>\n",
       "      <td>7.07</td>\n",
       "      <td>0</td>\n",
       "      <td>0.469</td>\n",
       "      <td>6.421</td>\n",
       "      <td>78.9</td>\n",
       "      <td>4.9671</td>\n",
       "      <td>2</td>\n",
       "      <td>242</td>\n",
       "      <td>17.8</td>\n",
       "      <td>396.90</td>\n",
       "      <td>9.14</td>\n",
       "      <td>21.6</td>\n",
       "    </tr>\n",
       "    <tr>\n",
       "      <th>2</th>\n",
       "      <td>0.02729</td>\n",
       "      <td>0.0</td>\n",
       "      <td>7.07</td>\n",
       "      <td>0</td>\n",
       "      <td>0.469</td>\n",
       "      <td>7.185</td>\n",
       "      <td>61.1</td>\n",
       "      <td>4.9671</td>\n",
       "      <td>2</td>\n",
       "      <td>242</td>\n",
       "      <td>17.8</td>\n",
       "      <td>392.83</td>\n",
       "      <td>4.03</td>\n",
       "      <td>34.7</td>\n",
       "    </tr>\n",
       "    <tr>\n",
       "      <th>3</th>\n",
       "      <td>0.03237</td>\n",
       "      <td>0.0</td>\n",
       "      <td>2.18</td>\n",
       "      <td>0</td>\n",
       "      <td>0.458</td>\n",
       "      <td>6.998</td>\n",
       "      <td>45.8</td>\n",
       "      <td>6.0622</td>\n",
       "      <td>3</td>\n",
       "      <td>222</td>\n",
       "      <td>18.7</td>\n",
       "      <td>394.63</td>\n",
       "      <td>2.94</td>\n",
       "      <td>33.4</td>\n",
       "    </tr>\n",
       "    <tr>\n",
       "      <th>4</th>\n",
       "      <td>0.06905</td>\n",
       "      <td>0.0</td>\n",
       "      <td>2.18</td>\n",
       "      <td>0</td>\n",
       "      <td>0.458</td>\n",
       "      <td>7.147</td>\n",
       "      <td>54.2</td>\n",
       "      <td>6.0622</td>\n",
       "      <td>3</td>\n",
       "      <td>222</td>\n",
       "      <td>18.7</td>\n",
       "      <td>396.90</td>\n",
       "      <td>5.33</td>\n",
       "      <td>36.2</td>\n",
       "    </tr>\n",
       "  </tbody>\n",
       "</table>\n",
       "</div>"
      ],
      "text/plain": [
       "      crim    zn  indus  chas    nox     rm   age     dis  rad  tax  ptratio  \\\n",
       "0  0.00632  18.0   2.31     0  0.538  6.575  65.2  4.0900    1  296     15.3   \n",
       "1  0.02731   0.0   7.07     0  0.469  6.421  78.9  4.9671    2  242     17.8   \n",
       "2  0.02729   0.0   7.07     0  0.469  7.185  61.1  4.9671    2  242     17.8   \n",
       "3  0.03237   0.0   2.18     0  0.458  6.998  45.8  6.0622    3  222     18.7   \n",
       "4  0.06905   0.0   2.18     0  0.458  7.147  54.2  6.0622    3  222     18.7   \n",
       "\n",
       "    black  lstat  medv  \n",
       "0  396.90   4.98  24.0  \n",
       "1  396.90   9.14  21.6  \n",
       "2  392.83   4.03  34.7  \n",
       "3  394.63   2.94  33.4  \n",
       "4  396.90   5.33  36.2  "
      ]
     },
     "execution_count": 4,
     "metadata": {},
     "output_type": "execute_result"
    }
   ],
   "source": [
    "data=data.drop(['Unnamed: 0'], axis=1)\n",
    "data.head()"
   ]
  },
  {
   "cell_type": "markdown",
   "id": "ec212d84",
   "metadata": {},
   "source": [
    "#### Finding null values and treating them<br>\n",
    "Replacing all 0 values by NaN"
   ]
  },
  {
   "cell_type": "code",
   "execution_count": 5,
   "id": "9ffd5129",
   "metadata": {},
   "outputs": [
    {
     "data": {
      "text/plain": [
       "crim         0\n",
       "zn         372\n",
       "indus        0\n",
       "chas       471\n",
       "nox          0\n",
       "rm           0\n",
       "age          0\n",
       "dis          0\n",
       "rad          0\n",
       "tax          0\n",
       "ptratio      0\n",
       "black        0\n",
       "lstat        0\n",
       "medv         0\n",
       "dtype: int64"
      ]
     },
     "execution_count": 5,
     "metadata": {},
     "output_type": "execute_result"
    }
   ],
   "source": [
    "data.replace(0,np.nan,inplace = True)\n",
    "data.isnull().sum()"
   ]
  },
  {
   "cell_type": "markdown",
   "id": "d2d39bb9",
   "metadata": {},
   "source": [
    "Finding missing value percentage"
   ]
  },
  {
   "cell_type": "code",
   "execution_count": 6,
   "id": "4cfaa78b",
   "metadata": {},
   "outputs": [
    {
     "name": "stdout",
     "output_type": "stream",
     "text": [
      "Percentage of missing values:\n"
     ]
    },
    {
     "data": {
      "text/plain": [
       "crim        0.000000\n",
       "zn         73.517787\n",
       "indus       0.000000\n",
       "chas       93.083004\n",
       "nox         0.000000\n",
       "rm          0.000000\n",
       "age         0.000000\n",
       "dis         0.000000\n",
       "rad         0.000000\n",
       "tax         0.000000\n",
       "ptratio     0.000000\n",
       "black       0.000000\n",
       "lstat       0.000000\n",
       "medv        0.000000\n",
       "dtype: float64"
      ]
     },
     "metadata": {},
     "output_type": "display_data"
    }
   ],
   "source": [
    "print(\"Percentage of missing values:\")\n",
    "display(data.isnull().sum()/len(data) * 100)"
   ]
  },
  {
   "cell_type": "markdown",
   "id": "5441bbac",
   "metadata": {},
   "source": [
    "From above reuslts we can conclude that we have approxiately 63% missing values in zn feature and 92% in chas feature in train data set. As well as we have approxiately 96% missing values in zn feature and 94% in chas feature in train data set.<br>\n",
    "So we have to remove those two features since we can not fill this amount of missing values which may increase the error in regresison models."
   ]
  },
  {
   "cell_type": "markdown",
   "id": "697a3fb2",
   "metadata": {},
   "source": [
    "Dropping two features"
   ]
  },
  {
   "cell_type": "code",
   "execution_count": 7,
   "id": "5d3eff98",
   "metadata": {},
   "outputs": [
    {
     "data": {
      "text/plain": [
       "crim       0\n",
       "indus      0\n",
       "nox        0\n",
       "rm         0\n",
       "age        0\n",
       "dis        0\n",
       "rad        0\n",
       "tax        0\n",
       "ptratio    0\n",
       "black      0\n",
       "lstat      0\n",
       "medv       0\n",
       "dtype: int64"
      ]
     },
     "execution_count": 7,
     "metadata": {},
     "output_type": "execute_result"
    }
   ],
   "source": [
    "data.drop([\"zn\", \"chas\"], axis=1, inplace=True)\n",
    "data.isnull().sum()"
   ]
  },
  {
   "cell_type": "markdown",
   "id": "c73d633a",
   "metadata": {},
   "source": [
    "#### Finding Outliers"
   ]
  },
  {
   "cell_type": "code",
   "execution_count": 8,
   "id": "c88be088",
   "metadata": {},
   "outputs": [],
   "source": [
    "def outlier_detect(DF):\n",
    "    DF.plot(kind=\"box\", subplots=True, layout=(4,4), figsize=(15,15));"
   ]
  },
  {
   "cell_type": "code",
   "execution_count": 9,
   "id": "5e7f3f1c",
   "metadata": {},
   "outputs": [
    {
     "data": {
      "image/png": "[encoded data removed]",
      "text/plain": [
       "<Figure size 1080x1080 with 16 Axes>"
      ]
     },
     "metadata": {
      "needs_background": "light"
     },
     "output_type": "display_data"
    }
   ],
   "source": [
    "outlier_detect(data)"
   ]
  },
  {
   "cell_type": "code",
   "execution_count": 10,
   "id": "87838482",
   "metadata": {},
   "outputs": [],
   "source": [
    "def outlier_treat(col_name):\n",
    "    Q3=np.percentile(col_name, 75)\n",
    "    Q1=np.percentile(col_name, 25)\n",
    "    IQR=Q3-Q1\n",
    "    UB=Q3+(1.5*IQR)\n",
    "    LB=Q1-(1.5*IQR)\n",
    "    col_name=col_name.apply(lambda x:UB if x>UB else x)\n",
    "    return col_name"
   ]
  },
  {
   "cell_type": "code",
   "execution_count": 11,
   "id": "56c15224",
   "metadata": {},
   "outputs": [
    {
     "data": {
      "image/png": "[encoded data removed]",
      "text/plain": [
       "<Figure size 1080x1080 with 16 Axes>"
      ]
     },
     "metadata": {
      "needs_background": "light"
     },
     "output_type": "display_data"
    }
   ],
   "source": [
    "data[\"crim\"]=outlier_treat(data[\"crim\"])\n",
    "data[\"rm\"]=outlier_treat(data[\"rm\"])\n",
    "data[\"dis\"]=outlier_treat(data[\"dis\"])\n",
    "data[\"ptratio\"]=outlier_treat(data[\"ptratio\"])\n",
    "data[\"black\"]=outlier_treat(data[\"black\"])\n",
    "data[\"lstat\"]=outlier_treat(data[\"lstat\"])\n",
    "data[\"medv\"]=outlier_treat(data[\"medv\"])\n",
    "outlier_detect(data)"
   ]
  },
  {
   "cell_type": "markdown",
   "id": "9d1a388b",
   "metadata": {},
   "source": [
    "From the above box plot we can see the function to capp the outliers, could not cap the outliers from black feature, so we have to remove the feature."
   ]
  },
  {
   "cell_type": "code",
   "execution_count": 12,
   "id": "8ba1895a",
   "metadata": {},
   "outputs": [
    {
     "data": {
      "image/png": "[encoded data removed]",
      "text/plain": [
       "<Figure size 1080x1080 with 16 Axes>"
      ]
     },
     "metadata": {
      "needs_background": "light"
     },
     "output_type": "display_data"
    }
   ],
   "source": [
    "data=data.drop([\"black\"], axis=1)\n",
    "outlier_detect(data)"
   ]
  },
  {
   "cell_type": "markdown",
   "id": "04834bb4",
   "metadata": {},
   "source": [
    "Checking data shape and statistical details"
   ]
  },
  {
   "cell_type": "code",
   "execution_count": 13,
   "id": "81cc8873",
   "metadata": {},
   "outputs": [
    {
     "data": {
      "text/plain": [
       "(506, 11)"
      ]
     },
     "execution_count": 13,
     "metadata": {},
     "output_type": "execute_result"
    }
   ],
   "source": [
    "data.shape"
   ]
  },
  {
   "cell_type": "code",
   "execution_count": 14,
   "id": "3bd1ba97",
   "metadata": {},
   "outputs": [
    {
     "data": {
      "text/html": [
       "<div>\n",
       "<style scoped>\n",
       "    .dataframe tbody tr th:only-of-type {\n",
       "        vertical-align: middle;\n",
       "    }\n",
       "\n",
       "    .dataframe tbody tr th {\n",
       "        vertical-align: top;\n",
       "    }\n",
       "\n",
       "    .dataframe thead th {\n",
       "        text-align: right;\n",
       "    }\n",
       "</style>\n",
       "<table border=\"1\" class=\"dataframe\">\n",
       "  <thead>\n",
       "    <tr style=\"text-align: right;\">\n",
       "      <th></th>\n",
       "      <th>count</th>\n",
       "      <th>mean</th>\n",
       "      <th>std</th>\n",
       "      <th>min</th>\n",
       "      <th>25%</th>\n",
       "      <th>50%</th>\n",
       "      <th>75%</th>\n",
       "      <th>max</th>\n",
       "    </tr>\n",
       "  </thead>\n",
       "  <tbody>\n",
       "    <tr>\n",
       "      <th>crim</th>\n",
       "      <td>506.0</td>\n",
       "      <td>2.225032</td>\n",
       "      <td>3.313353</td>\n",
       "      <td>0.00632</td>\n",
       "      <td>0.082045</td>\n",
       "      <td>0.25651</td>\n",
       "      <td>3.677083</td>\n",
       "      <td>9.069639</td>\n",
       "    </tr>\n",
       "    <tr>\n",
       "      <th>indus</th>\n",
       "      <td>506.0</td>\n",
       "      <td>11.136779</td>\n",
       "      <td>6.860353</td>\n",
       "      <td>0.46000</td>\n",
       "      <td>5.190000</td>\n",
       "      <td>9.69000</td>\n",
       "      <td>18.100000</td>\n",
       "      <td>27.740000</td>\n",
       "    </tr>\n",
       "    <tr>\n",
       "      <th>nox</th>\n",
       "      <td>506.0</td>\n",
       "      <td>0.554695</td>\n",
       "      <td>0.115878</td>\n",
       "      <td>0.38500</td>\n",
       "      <td>0.449000</td>\n",
       "      <td>0.53800</td>\n",
       "      <td>0.624000</td>\n",
       "      <td>0.871000</td>\n",
       "    </tr>\n",
       "    <tr>\n",
       "      <th>rm</th>\n",
       "      <td>506.0</td>\n",
       "      <td>6.266694</td>\n",
       "      <td>0.655550</td>\n",
       "      <td>3.56100</td>\n",
       "      <td>5.885500</td>\n",
       "      <td>6.20850</td>\n",
       "      <td>6.623500</td>\n",
       "      <td>7.730500</td>\n",
       "    </tr>\n",
       "    <tr>\n",
       "      <th>age</th>\n",
       "      <td>506.0</td>\n",
       "      <td>68.574901</td>\n",
       "      <td>28.148861</td>\n",
       "      <td>2.90000</td>\n",
       "      <td>45.025000</td>\n",
       "      <td>77.50000</td>\n",
       "      <td>94.075000</td>\n",
       "      <td>100.000000</td>\n",
       "    </tr>\n",
       "    <tr>\n",
       "      <th>dis</th>\n",
       "      <td>506.0</td>\n",
       "      <td>3.783947</td>\n",
       "      <td>2.069765</td>\n",
       "      <td>1.12960</td>\n",
       "      <td>2.100175</td>\n",
       "      <td>3.20745</td>\n",
       "      <td>5.188425</td>\n",
       "      <td>9.820800</td>\n",
       "    </tr>\n",
       "    <tr>\n",
       "      <th>rad</th>\n",
       "      <td>506.0</td>\n",
       "      <td>9.549407</td>\n",
       "      <td>8.707259</td>\n",
       "      <td>1.00000</td>\n",
       "      <td>4.000000</td>\n",
       "      <td>5.00000</td>\n",
       "      <td>24.000000</td>\n",
       "      <td>24.000000</td>\n",
       "    </tr>\n",
       "    <tr>\n",
       "      <th>tax</th>\n",
       "      <td>506.0</td>\n",
       "      <td>408.237154</td>\n",
       "      <td>168.537116</td>\n",
       "      <td>187.00000</td>\n",
       "      <td>279.000000</td>\n",
       "      <td>330.00000</td>\n",
       "      <td>666.000000</td>\n",
       "      <td>711.000000</td>\n",
       "    </tr>\n",
       "    <tr>\n",
       "      <th>ptratio</th>\n",
       "      <td>506.0</td>\n",
       "      <td>18.455534</td>\n",
       "      <td>2.164946</td>\n",
       "      <td>12.60000</td>\n",
       "      <td>17.400000</td>\n",
       "      <td>19.05000</td>\n",
       "      <td>20.200000</td>\n",
       "      <td>22.000000</td>\n",
       "    </tr>\n",
       "    <tr>\n",
       "      <th>lstat</th>\n",
       "      <td>506.0</td>\n",
       "      <td>12.612011</td>\n",
       "      <td>7.016829</td>\n",
       "      <td>1.73000</td>\n",
       "      <td>6.950000</td>\n",
       "      <td>11.36000</td>\n",
       "      <td>16.955000</td>\n",
       "      <td>31.962500</td>\n",
       "    </tr>\n",
       "    <tr>\n",
       "      <th>medv</th>\n",
       "      <td>506.0</td>\n",
       "      <td>21.876828</td>\n",
       "      <td>7.603524</td>\n",
       "      <td>5.00000</td>\n",
       "      <td>17.025000</td>\n",
       "      <td>21.20000</td>\n",
       "      <td>25.000000</td>\n",
       "      <td>36.962500</td>\n",
       "    </tr>\n",
       "  </tbody>\n",
       "</table>\n",
       "</div>"
      ],
      "text/plain": [
       "         count        mean         std        min         25%        50%  \\\n",
       "crim     506.0    2.225032    3.313353    0.00632    0.082045    0.25651   \n",
       "indus    506.0   11.136779    6.860353    0.46000    5.190000    9.69000   \n",
       "nox      506.0    0.554695    0.115878    0.38500    0.449000    0.53800   \n",
       "rm       506.0    6.266694    0.655550    3.56100    5.885500    6.20850   \n",
       "age      506.0   68.574901   28.148861    2.90000   45.025000   77.50000   \n",
       "dis      506.0    3.783947    2.069765    1.12960    2.100175    3.20745   \n",
       "rad      506.0    9.549407    8.707259    1.00000    4.000000    5.00000   \n",
       "tax      506.0  408.237154  168.537116  187.00000  279.000000  330.00000   \n",
       "ptratio  506.0   18.455534    2.164946   12.60000   17.400000   19.05000   \n",
       "lstat    506.0   12.612011    7.016829    1.73000    6.950000   11.36000   \n",
       "medv     506.0   21.876828    7.603524    5.00000   17.025000   21.20000   \n",
       "\n",
       "                75%         max  \n",
       "crim       3.677083    9.069639  \n",
       "indus     18.100000   27.740000  \n",
       "nox        0.624000    0.871000  \n",
       "rm         6.623500    7.730500  \n",
       "age       94.075000  100.000000  \n",
       "dis        5.188425    9.820800  \n",
       "rad       24.000000   24.000000  \n",
       "tax      666.000000  711.000000  \n",
       "ptratio   20.200000   22.000000  \n",
       "lstat     16.955000   31.962500  \n",
       "medv      25.000000   36.962500  "
      ]
     },
     "execution_count": 14,
     "metadata": {},
     "output_type": "execute_result"
    }
   ],
   "source": [
    "data.describe().T"
   ]
  },
  {
   "cell_type": "markdown",
   "id": "33485c2c",
   "metadata": {},
   "source": [
    "Checking distribution pattern of target variable"
   ]
  },
  {
   "cell_type": "code",
   "execution_count": 15,
   "id": "88b9b95c",
   "metadata": {},
   "outputs": [
    {
     "data": {
      "image/png": "[encoded data removed]",
      "text/plain": [
       "<Figure size 1080x360 with 1 Axes>"
      ]
     },
     "metadata": {
      "needs_background": "light"
     },
     "output_type": "display_data"
    }
   ],
   "source": [
    "data['medv'].plot(kind='kde', figsize=(15,5));"
   ]
  },
  {
   "cell_type": "markdown",
   "id": "ffdb9b30",
   "metadata": {},
   "source": [
    "We have slight right skewed distributed outcome with some outliers which may not affect the performance of the model."
   ]
  },
  {
   "cell_type": "markdown",
   "id": "6968030d",
   "metadata": {},
   "source": [
    "#### Checking the correlation of each independent variable with out target variable"
   ]
  },
  {
   "cell_type": "code",
   "execution_count": 16,
   "id": "2f8d8e04",
   "metadata": {},
   "outputs": [
    {
     "data": {
      "image/png": "[encoded data removed]",
      "text/plain": [
       "<Figure size 936x936 with 2 Axes>"
      ]
     },
     "metadata": {
      "needs_background": "light"
     },
     "output_type": "display_data"
    }
   ],
   "source": [
    "plt.figure(figsize=(13,13))\n",
    "sns.heatmap(data.corr(), cbar=True, annot=True, cmap='vlag');"
   ]
  },
  {
   "cell_type": "markdown",
   "id": "8138fb6d",
   "metadata": {},
   "source": [
    "From the correlation heatmap, we can say that, the output feature i.e. medv has strong correlation with \"lstat\",\"ptratio\",\"rm\",\"nox\",\"indus\",\"crim\",\"tax\".\n",
    "So we have to consider histogram for all those correlated columns individually."
   ]
  },
  {
   "cell_type": "code",
   "execution_count": 17,
   "id": "9101fe52",
   "metadata": {},
   "outputs": [
    {
     "data": {
      "text/plain": [
       "Text(0, 0.5, 'medv')"
      ]
     },
     "execution_count": 17,
     "metadata": {},
     "output_type": "execute_result"
    },
    {
     "data": {
      "image/png": "[encoded data removed]",
      "text/plain": [
       "<Figure size 1440x1440 with 7 Axes>"
      ]
     },
     "metadata": {
      "needs_background": "light"
     },
     "output_type": "display_data"
    }
   ],
   "source": [
    "fig=plt.figure(figsize=(20,20))  \n",
    "\n",
    "ax1=fig.add_subplot(4,2,1)   \n",
    "ax2=fig.add_subplot(4,2,2)\n",
    "ax3=fig.add_subplot(4,2,3)\n",
    "ax4=fig.add_subplot(4,2,4)\n",
    "ax5=fig.add_subplot(4,2,5)\n",
    "ax6=fig.add_subplot(4,2,6)\n",
    "ax7=fig.add_subplot(4,2,7)\n",
    "\n",
    "\n",
    "\n",
    "\n",
    "\n",
    "ax1.bar(data.ptratio, data.medv)\n",
    "ax1.set_title(\"ptratio VS medv\")\n",
    "ax1.set_xlabel(\"ptratio\")\n",
    "ax1.set_ylabel(\"medv\")\n",
    "\n",
    "ax2.bar(data.lstat, data.medv)\n",
    "ax2.set_title(\"lstat VS medv\")\n",
    "ax2.set_xlabel(\"lstat\")\n",
    "ax2.set_ylabel(\"medv\")\n",
    "\n",
    "ax3.bar(data.rm, data.medv)\n",
    "ax3.set_title(\"rm VS medv\")\n",
    "ax3.set_xlabel(\"rm\")\n",
    "ax3.set_ylabel(\"medv\")\n",
    "\n",
    "ax4.bar(data.nox, data.medv)\n",
    "ax4.set_title(\"nox VS medv\")\n",
    "ax4.set_xlabel(\"nox\")\n",
    "ax4.set_ylabel(\"medv\")\n",
    "\n",
    "ax5.bar(data.indus, data.medv)\n",
    "ax5.set_title(\"indus VS medv\")\n",
    "ax5.set_xlabel(\"indus\")\n",
    "ax5.set_ylabel(\"medv\")\n",
    "\n",
    "ax6.bar(data.crim, data.medv)\n",
    "ax6.set_title(\"crim VS medv\")\n",
    "ax6.set_xlabel(\"crim\")\n",
    "ax6.set_ylabel(\"medv\")\n",
    "\n",
    "ax7.bar(data.tax, data.medv)\n",
    "ax7.set_title(\"tax VS medv\")\n",
    "ax7.set_xlabel(\"tax\")\n",
    "ax7.set_ylabel(\"medv\")\n",
    "\n"
   ]
  },
  {
   "cell_type": "markdown",
   "id": "bb989ce1",
   "metadata": {},
   "source": [
    "#### From above subplots, we can say,<br>\n",
    "* ptratio is inversly proportional with medv<br>\n",
    "* lstat is inversly proportional with medv<br>\n",
    "* rm is directly proportional with medv<br>\n",
    "* nox is inversly proportional with medv<br>\n",
    "* indus is inversly proportional with medv<br>\n",
    "* crim is inversly proportional with medv<br>\n",
    "* tax is inversly proportional with medv<br>"
   ]
  },
  {
   "cell_type": "markdown",
   "id": "6fcac4ef",
   "metadata": {},
   "source": [
    "In this stage we have cleaned almost the entire data set now we can proceed to fit into multiple regression models."
   ]
  },
  {
   "cell_type": "markdown",
   "id": "9276b4ca",
   "metadata": {},
   "source": [
    "#### Splitting into dependent and independent features"
   ]
  },
  {
   "cell_type": "code",
   "execution_count": 18,
   "id": "b187e769",
   "metadata": {},
   "outputs": [],
   "source": [
    "X=data.drop([\"medv\"], axis=1)\n",
    "Y=data[\"medv\"]"
   ]
  },
  {
   "cell_type": "code",
   "execution_count": 19,
   "id": "c2146cc3",
   "metadata": {},
   "outputs": [
    {
     "name": "stdout",
     "output_type": "stream",
     "text": [
      "Shape of X: (506, 10)\n",
      "Shape of Y: (506,)\n"
     ]
    }
   ],
   "source": [
    "print(\"Shape of X:\", X.shape)\n",
    "print(\"Shape of Y:\", Y.shape)"
   ]
  },
  {
   "cell_type": "markdown",
   "id": "c14c83fb",
   "metadata": {},
   "source": [
    "#### Train Test Spliting"
   ]
  },
  {
   "cell_type": "code",
   "execution_count": 20,
   "id": "04bd5f6a",
   "metadata": {},
   "outputs": [],
   "source": [
    "from sklearn.model_selection import train_test_split"
   ]
  },
  {
   "cell_type": "code",
   "execution_count": 21,
   "id": "0e62abf5",
   "metadata": {},
   "outputs": [],
   "source": [
    "x_train, x_test, y_train, y_test=train_test_split(X, Y, train_size=0.70)"
   ]
  },
  {
   "cell_type": "code",
   "execution_count": 22,
   "id": "1d229ffe",
   "metadata": {},
   "outputs": [
    {
     "name": "stdout",
     "output_type": "stream",
     "text": [
      "Shape of X train: (354, 10)\n",
      "Shape of Y train: (354,)\n",
      "Shape of X test: (152, 10)\n",
      "Shape of Y test: (152,)\n"
     ]
    }
   ],
   "source": [
    "print(\"Shape of X train:\",x_train.shape)\n",
    "print(\"Shape of Y train:\",y_train.shape)\n",
    "print(\"Shape of X test:\",x_test.shape)\n",
    "print(\"Shape of Y test:\",y_test.shape)"
   ]
  },
  {
   "cell_type": "markdown",
   "id": "30ec8745",
   "metadata": {},
   "source": [
    "#### Normalizing the data"
   ]
  },
  {
   "cell_type": "code",
   "execution_count": 23,
   "id": "dc3e1d89",
   "metadata": {},
   "outputs": [],
   "source": [
    "from sklearn.preprocessing import MinMaxScaler\n",
    "scaler = MinMaxScaler()\n",
    "scaler.fit(x_train)\n",
    "x_train_scaled=scaler.transform(x_train)\n",
    "x_test_scaled=scaler.transform(x_test)"
   ]
  },
  {
   "cell_type": "markdown",
   "id": "754b08fe",
   "metadata": {},
   "source": [
    "## Regression model"
   ]
  },
  {
   "cell_type": "markdown",
   "id": "218f8de9",
   "metadata": {},
   "source": [
    "Evaluate metrics"
   ]
  },
  {
   "cell_type": "code",
   "execution_count": 24,
   "id": "f183cd91",
   "metadata": {},
   "outputs": [],
   "source": [
    "def model_evaluate(y_test,y_pred):\n",
    "    mae = mean_absolute_error(y_test, y_pred)\n",
    "    mse = mean_squared_error(y_test, y_pred)\n",
    "    r2 = r2_score(y_test, y_pred)\n",
    "    print('MAE is {}'.format(round(mae, 3)))\n",
    "    print('MSE is {}'.format(round(mse, 3)))\n",
    "    print('R2 score is {}'.format(round(r2, 3)))\n",
    "    "
   ]
  },
  {
   "cell_type": "markdown",
   "id": "a47d05fe",
   "metadata": {},
   "source": [
    "#### Linear Regression"
   ]
  },
  {
   "cell_type": "code",
   "execution_count": 25,
   "id": "7d971712",
   "metadata": {},
   "outputs": [
    {
     "name": "stdout",
     "output_type": "stream",
     "text": [
      "Scores of Linear Regression:\n",
      "MAE is 2.935\n",
      "MSE is 15.924\n",
      "R2 score is 0.718\n"
     ]
    }
   ],
   "source": [
    "from sklearn.linear_model import LinearRegression\n",
    "lr=LinearRegression()\n",
    "lr.fit(x_train_scaled, y_train)\n",
    "y_pred=lr.predict(x_test_scaled)\n",
    "print(\"Scores of Linear Regression:\")\n",
    "model_evaluate(y_test,y_pred)"
   ]
  },
  {
   "cell_type": "markdown",
   "id": "3cb87f37",
   "metadata": {},
   "source": [
    "#### Decision Tree"
   ]
  },
  {
   "cell_type": "code",
   "execution_count": 26,
   "id": "0d59a474",
   "metadata": {},
   "outputs": [
    {
     "name": "stdout",
     "output_type": "stream",
     "text": [
      "Scores of DT Regression:\n",
      "MAE is 2.66\n",
      "MSE is 14.651\n",
      "R2 score is 0.74\n"
     ]
    }
   ],
   "source": [
    "from sklearn.tree import DecisionTreeRegressor\n",
    "dt = DecisionTreeRegressor()\n",
    "dt.fit(x_train_scaled, y_train)\n",
    "y_pred=dt.predict(x_test_scaled)\n",
    "print(\"Scores of DT Regression:\")\n",
    "model_evaluate(y_test,y_pred)"
   ]
  },
  {
   "cell_type": "code",
   "execution_count": 27,
   "id": "bb306755",
   "metadata": {},
   "outputs": [
    {
     "name": "stdout",
     "output_type": "stream",
     "text": [
      "Best classifier : DecisionTreeRegressor(max_depth=5)\n"
     ]
    }
   ],
   "source": [
    "parameter={\"max_depth\" : [1, 2, 3, 4, 5, 6, 7, 8, 9, 10]}\n",
    "kf=KFold(n_splits=10)\n",
    "grid_sv = GridSearchCV(dt, cv=kf, param_grid=parameter, scoring='neg_mean_absolute_error')\n",
    "grid_sv.fit(x_train_scaled, y_train)\n",
    "print(\"Best classifier :\", grid_sv.best_estimator_)"
   ]
  },
  {
   "cell_type": "markdown",
   "id": "4fd08aae",
   "metadata": {},
   "source": [
    "Since for mean absolute error max depth=4\n",
    " and for mean square error max depth=6"
   ]
  },
  {
   "cell_type": "code",
   "execution_count": 28,
   "id": "fa33710e",
   "metadata": {},
   "outputs": [
    {
     "name": "stdout",
     "output_type": "stream",
     "text": [
      "Scores of DT Regression:\n",
      "MAE is 2.973\n",
      "MSE is 16.19\n",
      "R2 score is 0.713\n"
     ]
    }
   ],
   "source": [
    "dt = DecisionTreeRegressor(max_depth=4)\n",
    "dt.fit(x_train_scaled, y_train)\n",
    "y_pred=dt.predict(x_test_scaled)\n",
    "print(\"Scores of DT Regression:\")\n",
    "model_evaluate(y_test,y_pred)"
   ]
  },
  {
   "cell_type": "markdown",
   "id": "8b18997b",
   "metadata": {},
   "source": [
    "#### KNN "
   ]
  },
  {
   "cell_type": "code",
   "execution_count": 29,
   "id": "5c644142",
   "metadata": {},
   "outputs": [
    {
     "name": "stdout",
     "output_type": "stream",
     "text": [
      "Scores of KNN Regression:\n",
      "MAE is 2.387\n",
      "MSE is 11.659\n",
      "R2 score is 0.793\n"
     ]
    }
   ],
   "source": [
    "from sklearn.neighbors import KNeighborsRegressor\n",
    "knn = KNeighborsRegressor(n_neighbors=7)\n",
    "knn.fit(x_train_scaled, y_train)\n",
    "y_pred=knn.predict(x_test_scaled)\n",
    "print(\"Scores of KNN Regression:\")\n",
    "model_evaluate(y_test,y_pred)"
   ]
  },
  {
   "cell_type": "markdown",
   "id": "d1f393d3",
   "metadata": {},
   "source": [
    "#### Gradient Boost"
   ]
  },
  {
   "cell_type": "code",
   "execution_count": 30,
   "id": "225b0fd4",
   "metadata": {},
   "outputs": [
    {
     "name": "stdout",
     "output_type": "stream",
     "text": [
      "Scores of GB Regression:\n",
      "MAE is 2.249\n",
      "MSE is 9.745\n",
      "R2 score is 0.827\n"
     ]
    }
   ],
   "source": [
    "from sklearn.ensemble import GradientBoostingRegressor\n",
    "gbr = GradientBoostingRegressor()\n",
    "\n",
    "gbr.fit(x_train_scaled, y_train)\n",
    "y_pred=gbr.predict(x_test_scaled)\n",
    "print(\"Scores of GB Regression:\")\n",
    "model_evaluate(y_test,y_pred)"
   ]
  },
  {
   "cell_type": "code",
   "execution_count": 31,
   "id": "764bc665",
   "metadata": {},
   "outputs": [],
   "source": [
    "scores={\"Linear regression\":{\"MAE\":3.026, \"MSE\":18.209, \"R2\":0.672},\n",
    "        \"Decision Tree\":{\"MAE\":2.98, \"MSE\":17.812, \"R2\":0.68},\n",
    "        \"Gredient Boost\":{\"MAE\":2.18, \"MSE\":10.694, \"R2\":0.808},\n",
    "        \"KNN\":{\"MAE\":2.489, \"MSE\":15.096, \"R2\":0.728}\n",
    "       }"
   ]
  },
  {
   "cell_type": "code",
   "execution_count": 32,
   "id": "e734b1b5",
   "metadata": {},
   "outputs": [
    {
     "data": {
      "text/html": [
       "<div>\n",
       "<style scoped>\n",
       "    .dataframe tbody tr th:only-of-type {\n",
       "        vertical-align: middle;\n",
       "    }\n",
       "\n",
       "    .dataframe tbody tr th {\n",
       "        vertical-align: top;\n",
       "    }\n",
       "\n",
       "    .dataframe thead th {\n",
       "        text-align: right;\n",
       "    }\n",
       "</style>\n",
       "<table border=\"1\" class=\"dataframe\">\n",
       "  <thead>\n",
       "    <tr style=\"text-align: right;\">\n",
       "      <th></th>\n",
       "      <th>MAE</th>\n",
       "      <th>MSE</th>\n",
       "      <th>R2</th>\n",
       "    </tr>\n",
       "  </thead>\n",
       "  <tbody>\n",
       "    <tr>\n",
       "      <th>Linear regression</th>\n",
       "      <td>3.026</td>\n",
       "      <td>18.209</td>\n",
       "      <td>0.672</td>\n",
       "    </tr>\n",
       "    <tr>\n",
       "      <th>Decision Tree</th>\n",
       "      <td>2.980</td>\n",
       "      <td>17.812</td>\n",
       "      <td>0.680</td>\n",
       "    </tr>\n",
       "    <tr>\n",
       "      <th>Gredient Boost</th>\n",
       "      <td>2.180</td>\n",
       "      <td>10.694</td>\n",
       "      <td>0.808</td>\n",
       "    </tr>\n",
       "    <tr>\n",
       "      <th>KNN</th>\n",
       "      <td>2.489</td>\n",
       "      <td>15.096</td>\n",
       "      <td>0.728</td>\n",
       "    </tr>\n",
       "  </tbody>\n",
       "</table>\n",
       "</div>"
      ],
      "text/plain": [
       "                     MAE     MSE     R2\n",
       "Linear regression  3.026  18.209  0.672\n",
       "Decision Tree      2.980  17.812  0.680\n",
       "Gredient Boost     2.180  10.694  0.808\n",
       "KNN                2.489  15.096  0.728"
      ]
     },
     "execution_count": 32,
     "metadata": {},
     "output_type": "execute_result"
    }
   ],
   "source": [
    "score_data = pd.DataFrame.from_dict(scores).T\n",
    "score_data"
   ]
  },
  {
   "cell_type": "markdown",
   "id": "70255d87",
   "metadata": {},
   "source": [
    "From the above data we can conclude that when we are using mean absolute error decision tree and KNN perform the same. When we take mean square error in calculation in that case also decision tree and KNN performs the same but in case of R square value Linear regression perform best.<br>\n",
    "By considering all of the above scoring metrics value we can say that KNN is the best model for the given data set. "
   ]
  }
 ],
 "metadata": {
  "kernelspec": {
   "display_name": "Python 3 (ipykernel)",
   "language": "python",
   "name": "python3"
  },
  "language_info": {
   "codemirror_mode": {
    "name": "ipython",
    "version": 3
   },
   "file_extension": ".py",
   "mimetype": "text/x-python",
   "name": "python",
   "nbconvert_exporter": "python",
   "pygments_lexer": "ipython3",
   "version": "3.9.12"
  }
 },
 "nbformat": 4,
 "nbformat_minor": 5
}
