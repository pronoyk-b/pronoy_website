{
 "cells": [
  {
   "cell_type": "markdown",
   "id": "d0d1fce7",
   "metadata": {},
   "source": [
    "Import libraries"
   ]
  },
  {
   "cell_type": "code",
   "execution_count": 1,
   "id": "8c871f8b",
   "metadata": {},
   "outputs": [],
   "source": [
    "import numpy as np\n",
    "import pandas as pd\n",
    "import seaborn as sns\n",
    "import matplotlib.pyplot as plt\n",
    "%matplotlib inline\n",
    "\n",
    "\n",
    "import datetime\n",
    "import warnings\n",
    "warnings.filterwarnings(\"ignore\")\n",
    "\n",
    "\n",
    "\n",
    "\n",
    "from sklearn.metrics import mean_absolute_error, mean_squared_error, r2_score\n",
    "from sklearn.model_selection import GridSearchCV\n",
    "from sklearn.model_selection import KFold"
   ]
  },
  {
   "cell_type": "markdown",
   "id": "a5c372f7",
   "metadata": {},
   "source": [
    "Reading datasets"
   ]
  },
  {
   "cell_type": "code",
   "execution_count": 2,
   "id": "caf090e1",
   "metadata": {},
   "outputs": [
    {
     "data": {
      "text/html": [
       "<div>\n",
       "<style scoped>\n",
       "    .dataframe tbody tr th:only-of-type {\n",
       "        vertical-align: middle;\n",
       "    }\n",
       "\n",
       "    .dataframe tbody tr th {\n",
       "        vertical-align: top;\n",
       "    }\n",
       "\n",
       "    .dataframe thead th {\n",
       "        text-align: right;\n",
       "    }\n",
       "</style>\n",
       "<table border=\"1\" class=\"dataframe\">\n",
       "  <thead>\n",
       "    <tr style=\"text-align: right;\">\n",
       "      <th></th>\n",
       "      <th>name</th>\n",
       "      <th>year</th>\n",
       "      <th>selling_price</th>\n",
       "      <th>km_driven</th>\n",
       "      <th>fuel</th>\n",
       "      <th>seller_type</th>\n",
       "      <th>transmission</th>\n",
       "      <th>owner</th>\n",
       "      <th>mileage</th>\n",
       "      <th>engine</th>\n",
       "      <th>max_power</th>\n",
       "      <th>torque</th>\n",
       "      <th>seats</th>\n",
       "    </tr>\n",
       "  </thead>\n",
       "  <tbody>\n",
       "    <tr>\n",
       "      <th>0</th>\n",
       "      <td>Maruti Swift Dzire VDI</td>\n",
       "      <td>2014</td>\n",
       "      <td>450000</td>\n",
       "      <td>145500</td>\n",
       "      <td>Diesel</td>\n",
       "      <td>Individual</td>\n",
       "      <td>Manual</td>\n",
       "      <td>First Owner</td>\n",
       "      <td>23.4 kmpl</td>\n",
       "      <td>1248 CC</td>\n",
       "      <td>74 bhp</td>\n",
       "      <td>190Nm@ 2000rpm</td>\n",
       "      <td>5.0</td>\n",
       "    </tr>\n",
       "    <tr>\n",
       "      <th>1</th>\n",
       "      <td>Skoda Rapid 1.5 TDI Ambition</td>\n",
       "      <td>2014</td>\n",
       "      <td>370000</td>\n",
       "      <td>120000</td>\n",
       "      <td>Diesel</td>\n",
       "      <td>Individual</td>\n",
       "      <td>Manual</td>\n",
       "      <td>Second Owner</td>\n",
       "      <td>21.14 kmpl</td>\n",
       "      <td>1498 CC</td>\n",
       "      <td>103.52 bhp</td>\n",
       "      <td>250Nm@ 1500-2500rpm</td>\n",
       "      <td>5.0</td>\n",
       "    </tr>\n",
       "    <tr>\n",
       "      <th>2</th>\n",
       "      <td>Honda City 2017-2020 EXi</td>\n",
       "      <td>2006</td>\n",
       "      <td>158000</td>\n",
       "      <td>140000</td>\n",
       "      <td>Petrol</td>\n",
       "      <td>Individual</td>\n",
       "      <td>Manual</td>\n",
       "      <td>Third Owner</td>\n",
       "      <td>17.7 kmpl</td>\n",
       "      <td>1497 CC</td>\n",
       "      <td>78 bhp</td>\n",
       "      <td>12.7@ 2,700(kgm@ rpm)</td>\n",
       "      <td>5.0</td>\n",
       "    </tr>\n",
       "    <tr>\n",
       "      <th>3</th>\n",
       "      <td>Hyundai i20 Sportz Diesel</td>\n",
       "      <td>2010</td>\n",
       "      <td>225000</td>\n",
       "      <td>127000</td>\n",
       "      <td>Diesel</td>\n",
       "      <td>Individual</td>\n",
       "      <td>Manual</td>\n",
       "      <td>First Owner</td>\n",
       "      <td>23.0 kmpl</td>\n",
       "      <td>1396 CC</td>\n",
       "      <td>90 bhp</td>\n",
       "      <td>22.4 kgm at 1750-2750rpm</td>\n",
       "      <td>5.0</td>\n",
       "    </tr>\n",
       "    <tr>\n",
       "      <th>4</th>\n",
       "      <td>Maruti Swift VXI BSIII</td>\n",
       "      <td>2007</td>\n",
       "      <td>130000</td>\n",
       "      <td>120000</td>\n",
       "      <td>Petrol</td>\n",
       "      <td>Individual</td>\n",
       "      <td>Manual</td>\n",
       "      <td>First Owner</td>\n",
       "      <td>16.1 kmpl</td>\n",
       "      <td>1298 CC</td>\n",
       "      <td>88.2 bhp</td>\n",
       "      <td>11.5@ 4,500(kgm@ rpm)</td>\n",
       "      <td>5.0</td>\n",
       "    </tr>\n",
       "  </tbody>\n",
       "</table>\n",
       "</div>"
      ],
      "text/plain": [
       "                           name  year  selling_price  km_driven    fuel  \\\n",
       "0        Maruti Swift Dzire VDI  2014         450000     145500  Diesel   \n",
       "1  Skoda Rapid 1.5 TDI Ambition  2014         370000     120000  Diesel   \n",
       "2      Honda City 2017-2020 EXi  2006         158000     140000  Petrol   \n",
       "3     Hyundai i20 Sportz Diesel  2010         225000     127000  Diesel   \n",
       "4        Maruti Swift VXI BSIII  2007         130000     120000  Petrol   \n",
       "\n",
       "  seller_type transmission         owner     mileage   engine   max_power  \\\n",
       "0  Individual       Manual   First Owner   23.4 kmpl  1248 CC      74 bhp   \n",
       "1  Individual       Manual  Second Owner  21.14 kmpl  1498 CC  103.52 bhp   \n",
       "2  Individual       Manual   Third Owner   17.7 kmpl  1497 CC      78 bhp   \n",
       "3  Individual       Manual   First Owner   23.0 kmpl  1396 CC      90 bhp   \n",
       "4  Individual       Manual   First Owner   16.1 kmpl  1298 CC    88.2 bhp   \n",
       "\n",
       "                     torque  seats  \n",
       "0            190Nm@ 2000rpm    5.0  \n",
       "1       250Nm@ 1500-2500rpm    5.0  \n",
       "2     12.7@ 2,700(kgm@ rpm)    5.0  \n",
       "3  22.4 kgm at 1750-2750rpm    5.0  \n",
       "4     11.5@ 4,500(kgm@ rpm)    5.0  "
      ]
     },
     "execution_count": 2,
     "metadata": {},
     "output_type": "execute_result"
    }
   ],
   "source": [
    "data=pd.read_csv(\"Car details(linear_regression).csv\")\n",
    "data.head()"
   ]
  },
  {
   "cell_type": "markdown",
   "id": "91bcc26a",
   "metadata": {},
   "source": [
    "To predict the price for a used car, car name is not important. So we can drop this column. <br><br><br>\n",
    "Again, horsepower (bhp) affects a vehicle's speed while torque (Nm) impacts the load-bearing capacity. This is why most SUVs and load carrying vehicles use diesel engines as they are capable of generating more torque as compared to petrol counterparts.\n",
    "<br><br>\n",
    "But when it comes to buying a vehicle solely based on power and torque specifications, the balance will tilt towards power as it tends to impact the overall performance of a vehicle, especially the acceleration (pick-up).<br>So we can dismiss torque column too and focus on max_power of car.<br><br><br>\n",
    "We can determine the car age from the year of manufacturing. car age can be easily interpreted and understandable to predict car price."
   ]
  },
  {
   "cell_type": "code",
   "execution_count": 3,
   "id": "3d45b525",
   "metadata": {},
   "outputs": [
    {
     "name": "stdout",
     "output_type": "stream",
     "text": [
      "2023\n"
     ]
    }
   ],
   "source": [
    "today = datetime.date.today()\n",
    "current_year = today.year\n",
    "print(current_year)"
   ]
  },
  {
   "cell_type": "code",
   "execution_count": 4,
   "id": "80eeb49a",
   "metadata": {},
   "outputs": [
    {
     "data": {
      "text/plain": [
       "0        9\n",
       "1        9\n",
       "2       17\n",
       "3       13\n",
       "4       16\n",
       "        ..\n",
       "8123    10\n",
       "8124    16\n",
       "8125    14\n",
       "8126    10\n",
       "8127    10\n",
       "Name: car_age, Length: 8128, dtype: int64"
      ]
     },
     "execution_count": 4,
     "metadata": {},
     "output_type": "execute_result"
    }
   ],
   "source": [
    "data[\"current_year\"]=current_year\n",
    "data[\"car_age\"]=data[\"current_year\"]-data[\"year\"]\n",
    "data[\"car_age\"]"
   ]
  },
  {
   "cell_type": "code",
   "execution_count": 5,
   "id": "d49a654e",
   "metadata": {},
   "outputs": [],
   "source": [
    "droplist=[\"name\", \"torque\", \"year\", \"current_year\"]\n",
    "data.drop(droplist, inplace=True, axis=1)"
   ]
  },
  {
   "cell_type": "code",
   "execution_count": 6,
   "id": "b6a4ba93",
   "metadata": {},
   "outputs": [
    {
     "data": {
      "text/html": [
       "<div>\n",
       "<style scoped>\n",
       "    .dataframe tbody tr th:only-of-type {\n",
       "        vertical-align: middle;\n",
       "    }\n",
       "\n",
       "    .dataframe tbody tr th {\n",
       "        vertical-align: top;\n",
       "    }\n",
       "\n",
       "    .dataframe thead th {\n",
       "        text-align: right;\n",
       "    }\n",
       "</style>\n",
       "<table border=\"1\" class=\"dataframe\">\n",
       "  <thead>\n",
       "    <tr style=\"text-align: right;\">\n",
       "      <th></th>\n",
       "      <th>selling_price</th>\n",
       "      <th>km_driven</th>\n",
       "      <th>fuel</th>\n",
       "      <th>seller_type</th>\n",
       "      <th>transmission</th>\n",
       "      <th>owner</th>\n",
       "      <th>mileage</th>\n",
       "      <th>engine</th>\n",
       "      <th>max_power</th>\n",
       "      <th>seats</th>\n",
       "      <th>car_age</th>\n",
       "    </tr>\n",
       "  </thead>\n",
       "  <tbody>\n",
       "    <tr>\n",
       "      <th>0</th>\n",
       "      <td>450000</td>\n",
       "      <td>145500</td>\n",
       "      <td>Diesel</td>\n",
       "      <td>Individual</td>\n",
       "      <td>Manual</td>\n",
       "      <td>First Owner</td>\n",
       "      <td>23.4 kmpl</td>\n",
       "      <td>1248 CC</td>\n",
       "      <td>74 bhp</td>\n",
       "      <td>5.0</td>\n",
       "      <td>9</td>\n",
       "    </tr>\n",
       "    <tr>\n",
       "      <th>1</th>\n",
       "      <td>370000</td>\n",
       "      <td>120000</td>\n",
       "      <td>Diesel</td>\n",
       "      <td>Individual</td>\n",
       "      <td>Manual</td>\n",
       "      <td>Second Owner</td>\n",
       "      <td>21.14 kmpl</td>\n",
       "      <td>1498 CC</td>\n",
       "      <td>103.52 bhp</td>\n",
       "      <td>5.0</td>\n",
       "      <td>9</td>\n",
       "    </tr>\n",
       "    <tr>\n",
       "      <th>2</th>\n",
       "      <td>158000</td>\n",
       "      <td>140000</td>\n",
       "      <td>Petrol</td>\n",
       "      <td>Individual</td>\n",
       "      <td>Manual</td>\n",
       "      <td>Third Owner</td>\n",
       "      <td>17.7 kmpl</td>\n",
       "      <td>1497 CC</td>\n",
       "      <td>78 bhp</td>\n",
       "      <td>5.0</td>\n",
       "      <td>17</td>\n",
       "    </tr>\n",
       "    <tr>\n",
       "      <th>3</th>\n",
       "      <td>225000</td>\n",
       "      <td>127000</td>\n",
       "      <td>Diesel</td>\n",
       "      <td>Individual</td>\n",
       "      <td>Manual</td>\n",
       "      <td>First Owner</td>\n",
       "      <td>23.0 kmpl</td>\n",
       "      <td>1396 CC</td>\n",
       "      <td>90 bhp</td>\n",
       "      <td>5.0</td>\n",
       "      <td>13</td>\n",
       "    </tr>\n",
       "    <tr>\n",
       "      <th>4</th>\n",
       "      <td>130000</td>\n",
       "      <td>120000</td>\n",
       "      <td>Petrol</td>\n",
       "      <td>Individual</td>\n",
       "      <td>Manual</td>\n",
       "      <td>First Owner</td>\n",
       "      <td>16.1 kmpl</td>\n",
       "      <td>1298 CC</td>\n",
       "      <td>88.2 bhp</td>\n",
       "      <td>5.0</td>\n",
       "      <td>16</td>\n",
       "    </tr>\n",
       "  </tbody>\n",
       "</table>\n",
       "</div>"
      ],
      "text/plain": [
       "   selling_price  km_driven    fuel seller_type transmission         owner  \\\n",
       "0         450000     145500  Diesel  Individual       Manual   First Owner   \n",
       "1         370000     120000  Diesel  Individual       Manual  Second Owner   \n",
       "2         158000     140000  Petrol  Individual       Manual   Third Owner   \n",
       "3         225000     127000  Diesel  Individual       Manual   First Owner   \n",
       "4         130000     120000  Petrol  Individual       Manual   First Owner   \n",
       "\n",
       "      mileage   engine   max_power  seats  car_age  \n",
       "0   23.4 kmpl  1248 CC      74 bhp    5.0        9  \n",
       "1  21.14 kmpl  1498 CC  103.52 bhp    5.0        9  \n",
       "2   17.7 kmpl  1497 CC      78 bhp    5.0       17  \n",
       "3   23.0 kmpl  1396 CC      90 bhp    5.0       13  \n",
       "4   16.1 kmpl  1298 CC    88.2 bhp    5.0       16  "
      ]
     },
     "execution_count": 6,
     "metadata": {},
     "output_type": "execute_result"
    }
   ],
   "source": [
    "data.head()"
   ]
  },
  {
   "cell_type": "markdown",
   "id": "b6056cea",
   "metadata": {},
   "source": [
    "Exploting basic features and statistical values"
   ]
  },
  {
   "cell_type": "code",
   "execution_count": 7,
   "id": "fc32c4dc",
   "metadata": {},
   "outputs": [
    {
     "data": {
      "text/html": [
       "<div>\n",
       "<style scoped>\n",
       "    .dataframe tbody tr th:only-of-type {\n",
       "        vertical-align: middle;\n",
       "    }\n",
       "\n",
       "    .dataframe tbody tr th {\n",
       "        vertical-align: top;\n",
       "    }\n",
       "\n",
       "    .dataframe thead th {\n",
       "        text-align: right;\n",
       "    }\n",
       "</style>\n",
       "<table border=\"1\" class=\"dataframe\">\n",
       "  <thead>\n",
       "    <tr style=\"text-align: right;\">\n",
       "      <th></th>\n",
       "      <th>selling_price</th>\n",
       "      <th>km_driven</th>\n",
       "      <th>seats</th>\n",
       "      <th>car_age</th>\n",
       "    </tr>\n",
       "  </thead>\n",
       "  <tbody>\n",
       "    <tr>\n",
       "      <th>count</th>\n",
       "      <td>8.128000e+03</td>\n",
       "      <td>8.128000e+03</td>\n",
       "      <td>7907.000000</td>\n",
       "      <td>8128.000000</td>\n",
       "    </tr>\n",
       "    <tr>\n",
       "      <th>mean</th>\n",
       "      <td>6.382718e+05</td>\n",
       "      <td>6.981951e+04</td>\n",
       "      <td>5.416719</td>\n",
       "      <td>9.195989</td>\n",
       "    </tr>\n",
       "    <tr>\n",
       "      <th>std</th>\n",
       "      <td>8.062534e+05</td>\n",
       "      <td>5.655055e+04</td>\n",
       "      <td>0.959588</td>\n",
       "      <td>4.044249</td>\n",
       "    </tr>\n",
       "    <tr>\n",
       "      <th>min</th>\n",
       "      <td>2.999900e+04</td>\n",
       "      <td>1.000000e+00</td>\n",
       "      <td>2.000000</td>\n",
       "      <td>3.000000</td>\n",
       "    </tr>\n",
       "    <tr>\n",
       "      <th>25%</th>\n",
       "      <td>2.549990e+05</td>\n",
       "      <td>3.500000e+04</td>\n",
       "      <td>5.000000</td>\n",
       "      <td>6.000000</td>\n",
       "    </tr>\n",
       "    <tr>\n",
       "      <th>50%</th>\n",
       "      <td>4.500000e+05</td>\n",
       "      <td>6.000000e+04</td>\n",
       "      <td>5.000000</td>\n",
       "      <td>8.000000</td>\n",
       "    </tr>\n",
       "    <tr>\n",
       "      <th>75%</th>\n",
       "      <td>6.750000e+05</td>\n",
       "      <td>9.800000e+04</td>\n",
       "      <td>5.000000</td>\n",
       "      <td>12.000000</td>\n",
       "    </tr>\n",
       "    <tr>\n",
       "      <th>max</th>\n",
       "      <td>1.000000e+07</td>\n",
       "      <td>2.360457e+06</td>\n",
       "      <td>14.000000</td>\n",
       "      <td>40.000000</td>\n",
       "    </tr>\n",
       "  </tbody>\n",
       "</table>\n",
       "</div>"
      ],
      "text/plain": [
       "       selling_price     km_driven        seats      car_age\n",
       "count   8.128000e+03  8.128000e+03  7907.000000  8128.000000\n",
       "mean    6.382718e+05  6.981951e+04     5.416719     9.195989\n",
       "std     8.062534e+05  5.655055e+04     0.959588     4.044249\n",
       "min     2.999900e+04  1.000000e+00     2.000000     3.000000\n",
       "25%     2.549990e+05  3.500000e+04     5.000000     6.000000\n",
       "50%     4.500000e+05  6.000000e+04     5.000000     8.000000\n",
       "75%     6.750000e+05  9.800000e+04     5.000000    12.000000\n",
       "max     1.000000e+07  2.360457e+06    14.000000    40.000000"
      ]
     },
     "execution_count": 7,
     "metadata": {},
     "output_type": "execute_result"
    }
   ],
   "source": [
    "data.describe()"
   ]
  },
  {
   "cell_type": "code",
   "execution_count": 8,
   "id": "03b04abf",
   "metadata": {},
   "outputs": [
    {
     "name": "stdout",
     "output_type": "stream",
     "text": [
      "<class 'pandas.core.frame.DataFrame'>\n",
      "RangeIndex: 8128 entries, 0 to 8127\n",
      "Data columns (total 11 columns):\n",
      " #   Column         Non-Null Count  Dtype  \n",
      "---  ------         --------------  -----  \n",
      " 0   selling_price  8128 non-null   int64  \n",
      " 1   km_driven      8128 non-null   int64  \n",
      " 2   fuel           8128 non-null   object \n",
      " 3   seller_type    8128 non-null   object \n",
      " 4   transmission   8128 non-null   object \n",
      " 5   owner          8128 non-null   object \n",
      " 6   mileage        7907 non-null   object \n",
      " 7   engine         7907 non-null   object \n",
      " 8   max_power      7913 non-null   object \n",
      " 9   seats          7907 non-null   float64\n",
      " 10  car_age        8128 non-null   int64  \n",
      "dtypes: float64(1), int64(3), object(7)\n",
      "memory usage: 698.6+ KB\n"
     ]
    }
   ],
   "source": [
    "data.info()"
   ]
  },
  {
   "cell_type": "markdown",
   "id": "0f16b3b3",
   "metadata": {},
   "source": [
    "By inspecting the datatypes of all features, we can conclude that, mileage, engine, max_power those 3 features should be in int or float type. To make them, initially we have to remove all strings from each feature and then we have to apply astype() function to make them appropriate."
   ]
  },
  {
   "cell_type": "markdown",
   "id": "b99a6839",
   "metadata": {},
   "source": [
    "Since we have two types of unit, i) kmpl and ii)km/kg so we converted km/kg into kmpl byt the formula <br>\n",
    "kmpl=1.40*(km/kg)"
   ]
  },
  {
   "cell_type": "code",
   "execution_count": 9,
   "id": "983d0b85",
   "metadata": {},
   "outputs": [],
   "source": [
    "Correct_mileage= []\n",
    "for i in data.mileage:\n",
    "    if str(i).endswith(\"kmpl\"):\n",
    "        i=i.replace('kmpl','')\n",
    "        Correct_mileage.append(float(i))\n",
    "    if str(i).endswith(\"km/kg\"):\n",
    "        i=i.replace('km/kg','')\n",
    "        i=float(i)*1.40\n",
    "        Correct_mileage.append(float(i))\n",
    "    if str(i)==\"nan\" or str(i)==\"Nan\" or str(i)==\"NaN\":\n",
    "        i=0\n",
    "        Correct_mileage.append(int(i))\n",
    "data['mileage']=Correct_mileage"
   ]
  },
  {
   "cell_type": "code",
   "execution_count": 10,
   "id": "6946d9e6",
   "metadata": {},
   "outputs": [
    {
     "data": {
      "text/html": [
       "<div>\n",
       "<style scoped>\n",
       "    .dataframe tbody tr th:only-of-type {\n",
       "        vertical-align: middle;\n",
       "    }\n",
       "\n",
       "    .dataframe tbody tr th {\n",
       "        vertical-align: top;\n",
       "    }\n",
       "\n",
       "    .dataframe thead th {\n",
       "        text-align: right;\n",
       "    }\n",
       "</style>\n",
       "<table border=\"1\" class=\"dataframe\">\n",
       "  <thead>\n",
       "    <tr style=\"text-align: right;\">\n",
       "      <th></th>\n",
       "      <th>selling_price</th>\n",
       "      <th>km_driven</th>\n",
       "      <th>fuel</th>\n",
       "      <th>seller_type</th>\n",
       "      <th>transmission</th>\n",
       "      <th>owner</th>\n",
       "      <th>mileage</th>\n",
       "      <th>engine</th>\n",
       "      <th>max_power</th>\n",
       "      <th>seats</th>\n",
       "      <th>car_age</th>\n",
       "    </tr>\n",
       "  </thead>\n",
       "  <tbody>\n",
       "    <tr>\n",
       "      <th>0</th>\n",
       "      <td>450000</td>\n",
       "      <td>145500</td>\n",
       "      <td>Diesel</td>\n",
       "      <td>Individual</td>\n",
       "      <td>Manual</td>\n",
       "      <td>First Owner</td>\n",
       "      <td>23.40</td>\n",
       "      <td>1248 CC</td>\n",
       "      <td>74 bhp</td>\n",
       "      <td>5.0</td>\n",
       "      <td>9</td>\n",
       "    </tr>\n",
       "    <tr>\n",
       "      <th>1</th>\n",
       "      <td>370000</td>\n",
       "      <td>120000</td>\n",
       "      <td>Diesel</td>\n",
       "      <td>Individual</td>\n",
       "      <td>Manual</td>\n",
       "      <td>Second Owner</td>\n",
       "      <td>21.14</td>\n",
       "      <td>1498 CC</td>\n",
       "      <td>103.52 bhp</td>\n",
       "      <td>5.0</td>\n",
       "      <td>9</td>\n",
       "    </tr>\n",
       "    <tr>\n",
       "      <th>2</th>\n",
       "      <td>158000</td>\n",
       "      <td>140000</td>\n",
       "      <td>Petrol</td>\n",
       "      <td>Individual</td>\n",
       "      <td>Manual</td>\n",
       "      <td>Third Owner</td>\n",
       "      <td>17.70</td>\n",
       "      <td>1497 CC</td>\n",
       "      <td>78 bhp</td>\n",
       "      <td>5.0</td>\n",
       "      <td>17</td>\n",
       "    </tr>\n",
       "    <tr>\n",
       "      <th>3</th>\n",
       "      <td>225000</td>\n",
       "      <td>127000</td>\n",
       "      <td>Diesel</td>\n",
       "      <td>Individual</td>\n",
       "      <td>Manual</td>\n",
       "      <td>First Owner</td>\n",
       "      <td>23.00</td>\n",
       "      <td>1396 CC</td>\n",
       "      <td>90 bhp</td>\n",
       "      <td>5.0</td>\n",
       "      <td>13</td>\n",
       "    </tr>\n",
       "    <tr>\n",
       "      <th>4</th>\n",
       "      <td>130000</td>\n",
       "      <td>120000</td>\n",
       "      <td>Petrol</td>\n",
       "      <td>Individual</td>\n",
       "      <td>Manual</td>\n",
       "      <td>First Owner</td>\n",
       "      <td>16.10</td>\n",
       "      <td>1298 CC</td>\n",
       "      <td>88.2 bhp</td>\n",
       "      <td>5.0</td>\n",
       "      <td>16</td>\n",
       "    </tr>\n",
       "  </tbody>\n",
       "</table>\n",
       "</div>"
      ],
      "text/plain": [
       "   selling_price  km_driven    fuel seller_type transmission         owner  \\\n",
       "0         450000     145500  Diesel  Individual       Manual   First Owner   \n",
       "1         370000     120000  Diesel  Individual       Manual  Second Owner   \n",
       "2         158000     140000  Petrol  Individual       Manual   Third Owner   \n",
       "3         225000     127000  Diesel  Individual       Manual   First Owner   \n",
       "4         130000     120000  Petrol  Individual       Manual   First Owner   \n",
       "\n",
       "   mileage   engine   max_power  seats  car_age  \n",
       "0    23.40  1248 CC      74 bhp    5.0        9  \n",
       "1    21.14  1498 CC  103.52 bhp    5.0        9  \n",
       "2    17.70  1497 CC      78 bhp    5.0       17  \n",
       "3    23.00  1396 CC      90 bhp    5.0       13  \n",
       "4    16.10  1298 CC    88.2 bhp    5.0       16  "
      ]
     },
     "execution_count": 10,
     "metadata": {},
     "output_type": "execute_result"
    }
   ],
   "source": [
    "data.head()"
   ]
  },
  {
   "cell_type": "code",
   "execution_count": 11,
   "id": "904e31a3",
   "metadata": {},
   "outputs": [
    {
     "name": "stdout",
     "output_type": "stream",
     "text": [
      "<class 'pandas.core.frame.DataFrame'>\n",
      "RangeIndex: 8128 entries, 0 to 8127\n",
      "Data columns (total 11 columns):\n",
      " #   Column         Non-Null Count  Dtype  \n",
      "---  ------         --------------  -----  \n",
      " 0   selling_price  8128 non-null   int64  \n",
      " 1   km_driven      8128 non-null   int64  \n",
      " 2   fuel           8128 non-null   object \n",
      " 3   seller_type    8128 non-null   object \n",
      " 4   transmission   8128 non-null   object \n",
      " 5   owner          8128 non-null   object \n",
      " 6   mileage        8128 non-null   float64\n",
      " 7   engine         7907 non-null   object \n",
      " 8   max_power      7913 non-null   object \n",
      " 9   seats          7907 non-null   float64\n",
      " 10  car_age        8128 non-null   int64  \n",
      "dtypes: float64(2), int64(3), object(6)\n",
      "memory usage: 698.6+ KB\n"
     ]
    }
   ],
   "source": [
    "data.info()"
   ]
  },
  {
   "cell_type": "code",
   "execution_count": 12,
   "id": "17802cd5",
   "metadata": {},
   "outputs": [],
   "source": [
    "data['engine']=data['engine'].str.replace('CC','')"
   ]
  },
  {
   "cell_type": "code",
   "execution_count": 13,
   "id": "4e3f47e4",
   "metadata": {},
   "outputs": [
    {
     "data": {
      "text/html": [
       "<div>\n",
       "<style scoped>\n",
       "    .dataframe tbody tr th:only-of-type {\n",
       "        vertical-align: middle;\n",
       "    }\n",
       "\n",
       "    .dataframe tbody tr th {\n",
       "        vertical-align: top;\n",
       "    }\n",
       "\n",
       "    .dataframe thead th {\n",
       "        text-align: right;\n",
       "    }\n",
       "</style>\n",
       "<table border=\"1\" class=\"dataframe\">\n",
       "  <thead>\n",
       "    <tr style=\"text-align: right;\">\n",
       "      <th></th>\n",
       "      <th>selling_price</th>\n",
       "      <th>km_driven</th>\n",
       "      <th>fuel</th>\n",
       "      <th>seller_type</th>\n",
       "      <th>transmission</th>\n",
       "      <th>owner</th>\n",
       "      <th>mileage</th>\n",
       "      <th>engine</th>\n",
       "      <th>max_power</th>\n",
       "      <th>seats</th>\n",
       "      <th>car_age</th>\n",
       "    </tr>\n",
       "  </thead>\n",
       "  <tbody>\n",
       "    <tr>\n",
       "      <th>0</th>\n",
       "      <td>450000</td>\n",
       "      <td>145500</td>\n",
       "      <td>Diesel</td>\n",
       "      <td>Individual</td>\n",
       "      <td>Manual</td>\n",
       "      <td>First Owner</td>\n",
       "      <td>23.40</td>\n",
       "      <td>1248.0</td>\n",
       "      <td>74 bhp</td>\n",
       "      <td>5.0</td>\n",
       "      <td>9</td>\n",
       "    </tr>\n",
       "    <tr>\n",
       "      <th>1</th>\n",
       "      <td>370000</td>\n",
       "      <td>120000</td>\n",
       "      <td>Diesel</td>\n",
       "      <td>Individual</td>\n",
       "      <td>Manual</td>\n",
       "      <td>Second Owner</td>\n",
       "      <td>21.14</td>\n",
       "      <td>1498.0</td>\n",
       "      <td>103.52 bhp</td>\n",
       "      <td>5.0</td>\n",
       "      <td>9</td>\n",
       "    </tr>\n",
       "    <tr>\n",
       "      <th>2</th>\n",
       "      <td>158000</td>\n",
       "      <td>140000</td>\n",
       "      <td>Petrol</td>\n",
       "      <td>Individual</td>\n",
       "      <td>Manual</td>\n",
       "      <td>Third Owner</td>\n",
       "      <td>17.70</td>\n",
       "      <td>1497.0</td>\n",
       "      <td>78 bhp</td>\n",
       "      <td>5.0</td>\n",
       "      <td>17</td>\n",
       "    </tr>\n",
       "    <tr>\n",
       "      <th>3</th>\n",
       "      <td>225000</td>\n",
       "      <td>127000</td>\n",
       "      <td>Diesel</td>\n",
       "      <td>Individual</td>\n",
       "      <td>Manual</td>\n",
       "      <td>First Owner</td>\n",
       "      <td>23.00</td>\n",
       "      <td>1396.0</td>\n",
       "      <td>90 bhp</td>\n",
       "      <td>5.0</td>\n",
       "      <td>13</td>\n",
       "    </tr>\n",
       "    <tr>\n",
       "      <th>4</th>\n",
       "      <td>130000</td>\n",
       "      <td>120000</td>\n",
       "      <td>Petrol</td>\n",
       "      <td>Individual</td>\n",
       "      <td>Manual</td>\n",
       "      <td>First Owner</td>\n",
       "      <td>16.10</td>\n",
       "      <td>1298.0</td>\n",
       "      <td>88.2 bhp</td>\n",
       "      <td>5.0</td>\n",
       "      <td>16</td>\n",
       "    </tr>\n",
       "  </tbody>\n",
       "</table>\n",
       "</div>"
      ],
      "text/plain": [
       "   selling_price  km_driven    fuel seller_type transmission         owner  \\\n",
       "0         450000     145500  Diesel  Individual       Manual   First Owner   \n",
       "1         370000     120000  Diesel  Individual       Manual  Second Owner   \n",
       "2         158000     140000  Petrol  Individual       Manual   Third Owner   \n",
       "3         225000     127000  Diesel  Individual       Manual   First Owner   \n",
       "4         130000     120000  Petrol  Individual       Manual   First Owner   \n",
       "\n",
       "   mileage  engine   max_power  seats  car_age  \n",
       "0    23.40  1248.0      74 bhp    5.0        9  \n",
       "1    21.14  1498.0  103.52 bhp    5.0        9  \n",
       "2    17.70  1497.0      78 bhp    5.0       17  \n",
       "3    23.00  1396.0      90 bhp    5.0       13  \n",
       "4    16.10  1298.0    88.2 bhp    5.0       16  "
      ]
     },
     "execution_count": 13,
     "metadata": {},
     "output_type": "execute_result"
    }
   ],
   "source": [
    "Correct_engine= []\n",
    "for i in data.engine:\n",
    "    if str(i)==\"nan\" or str(i)==\"Nan\" or str(i)==\"NaN\":\n",
    "        i=0\n",
    "        Correct_engine.append(int(i))\n",
    "    else:\n",
    "        Correct_engine.append(float(i))\n",
    "        \n",
    "data[\"engine\"]=Correct_engine\n",
    "data.head()"
   ]
  },
  {
   "cell_type": "code",
   "execution_count": 14,
   "id": "fe2b195f",
   "metadata": {},
   "outputs": [
    {
     "name": "stdout",
     "output_type": "stream",
     "text": [
      "<class 'pandas.core.frame.DataFrame'>\n",
      "RangeIndex: 8128 entries, 0 to 8127\n",
      "Data columns (total 11 columns):\n",
      " #   Column         Non-Null Count  Dtype  \n",
      "---  ------         --------------  -----  \n",
      " 0   selling_price  8128 non-null   int64  \n",
      " 1   km_driven      8128 non-null   int64  \n",
      " 2   fuel           8128 non-null   object \n",
      " 3   seller_type    8128 non-null   object \n",
      " 4   transmission   8128 non-null   object \n",
      " 5   owner          8128 non-null   object \n",
      " 6   mileage        8128 non-null   float64\n",
      " 7   engine         8128 non-null   float64\n",
      " 8   max_power      7913 non-null   object \n",
      " 9   seats          7907 non-null   float64\n",
      " 10  car_age        8128 non-null   int64  \n",
      "dtypes: float64(3), int64(3), object(5)\n",
      "memory usage: 698.6+ KB\n"
     ]
    }
   ],
   "source": [
    "data.info()"
   ]
  },
  {
   "cell_type": "code",
   "execution_count": 15,
   "id": "8c03770e",
   "metadata": {},
   "outputs": [
    {
     "name": "stdout",
     "output_type": "stream",
     "text": [
      "<class 'pandas.core.frame.DataFrame'>\n",
      "RangeIndex: 8128 entries, 0 to 8127\n",
      "Data columns (total 11 columns):\n",
      " #   Column         Non-Null Count  Dtype  \n",
      "---  ------         --------------  -----  \n",
      " 0   selling_price  8128 non-null   int64  \n",
      " 1   km_driven      8128 non-null   int64  \n",
      " 2   fuel           8128 non-null   object \n",
      " 3   seller_type    8128 non-null   object \n",
      " 4   transmission   8128 non-null   object \n",
      " 5   owner          8128 non-null   object \n",
      " 6   mileage        8128 non-null   float64\n",
      " 7   engine         8128 non-null   float64\n",
      " 8   max_power      8128 non-null   float64\n",
      " 9   seats          7907 non-null   float64\n",
      " 10  car_age        8128 non-null   int64  \n",
      "dtypes: float64(4), int64(3), object(4)\n",
      "memory usage: 698.6+ KB\n"
     ]
    }
   ],
   "source": [
    "data['max_power']=data['max_power'].str.replace(' bhp','')\n",
    "\n",
    "\n",
    "correct_max_power= []\n",
    "for i in data.max_power:\n",
    "    if str(i)==\"nan\" or str(i)==\"Nan\" or str(i)==\"NaN\" or str(i)=='' :\n",
    "        i=0\n",
    "        correct_max_power.append(int(i))    \n",
    "    else:\n",
    "        i=float(i)\n",
    "        correct_max_power.append(i)\n",
    "        \n",
    "\n",
    "        \n",
    "        \n",
    "data[\"max_power\"]=correct_max_power   \n",
    "data.info()"
   ]
  },
  {
   "cell_type": "code",
   "execution_count": 16,
   "id": "d0582c2e",
   "metadata": {},
   "outputs": [
    {
     "data": {
      "text/html": [
       "<div>\n",
       "<style scoped>\n",
       "    .dataframe tbody tr th:only-of-type {\n",
       "        vertical-align: middle;\n",
       "    }\n",
       "\n",
       "    .dataframe tbody tr th {\n",
       "        vertical-align: top;\n",
       "    }\n",
       "\n",
       "    .dataframe thead th {\n",
       "        text-align: right;\n",
       "    }\n",
       "</style>\n",
       "<table border=\"1\" class=\"dataframe\">\n",
       "  <thead>\n",
       "    <tr style=\"text-align: right;\">\n",
       "      <th></th>\n",
       "      <th>selling_price</th>\n",
       "      <th>km_driven</th>\n",
       "      <th>fuel</th>\n",
       "      <th>seller_type</th>\n",
       "      <th>transmission</th>\n",
       "      <th>owner</th>\n",
       "      <th>mileage</th>\n",
       "      <th>engine</th>\n",
       "      <th>max_power</th>\n",
       "      <th>seats</th>\n",
       "      <th>car_age</th>\n",
       "    </tr>\n",
       "  </thead>\n",
       "  <tbody>\n",
       "    <tr>\n",
       "      <th>0</th>\n",
       "      <td>450000</td>\n",
       "      <td>145500</td>\n",
       "      <td>Diesel</td>\n",
       "      <td>Individual</td>\n",
       "      <td>Manual</td>\n",
       "      <td>First Owner</td>\n",
       "      <td>23.40</td>\n",
       "      <td>1248.0</td>\n",
       "      <td>74.00</td>\n",
       "      <td>5.0</td>\n",
       "      <td>9</td>\n",
       "    </tr>\n",
       "    <tr>\n",
       "      <th>1</th>\n",
       "      <td>370000</td>\n",
       "      <td>120000</td>\n",
       "      <td>Diesel</td>\n",
       "      <td>Individual</td>\n",
       "      <td>Manual</td>\n",
       "      <td>Second Owner</td>\n",
       "      <td>21.14</td>\n",
       "      <td>1498.0</td>\n",
       "      <td>103.52</td>\n",
       "      <td>5.0</td>\n",
       "      <td>9</td>\n",
       "    </tr>\n",
       "    <tr>\n",
       "      <th>2</th>\n",
       "      <td>158000</td>\n",
       "      <td>140000</td>\n",
       "      <td>Petrol</td>\n",
       "      <td>Individual</td>\n",
       "      <td>Manual</td>\n",
       "      <td>Third Owner</td>\n",
       "      <td>17.70</td>\n",
       "      <td>1497.0</td>\n",
       "      <td>78.00</td>\n",
       "      <td>5.0</td>\n",
       "      <td>17</td>\n",
       "    </tr>\n",
       "    <tr>\n",
       "      <th>3</th>\n",
       "      <td>225000</td>\n",
       "      <td>127000</td>\n",
       "      <td>Diesel</td>\n",
       "      <td>Individual</td>\n",
       "      <td>Manual</td>\n",
       "      <td>First Owner</td>\n",
       "      <td>23.00</td>\n",
       "      <td>1396.0</td>\n",
       "      <td>90.00</td>\n",
       "      <td>5.0</td>\n",
       "      <td>13</td>\n",
       "    </tr>\n",
       "    <tr>\n",
       "      <th>4</th>\n",
       "      <td>130000</td>\n",
       "      <td>120000</td>\n",
       "      <td>Petrol</td>\n",
       "      <td>Individual</td>\n",
       "      <td>Manual</td>\n",
       "      <td>First Owner</td>\n",
       "      <td>16.10</td>\n",
       "      <td>1298.0</td>\n",
       "      <td>88.20</td>\n",
       "      <td>5.0</td>\n",
       "      <td>16</td>\n",
       "    </tr>\n",
       "  </tbody>\n",
       "</table>\n",
       "</div>"
      ],
      "text/plain": [
       "   selling_price  km_driven    fuel seller_type transmission         owner  \\\n",
       "0         450000     145500  Diesel  Individual       Manual   First Owner   \n",
       "1         370000     120000  Diesel  Individual       Manual  Second Owner   \n",
       "2         158000     140000  Petrol  Individual       Manual   Third Owner   \n",
       "3         225000     127000  Diesel  Individual       Manual   First Owner   \n",
       "4         130000     120000  Petrol  Individual       Manual   First Owner   \n",
       "\n",
       "   mileage  engine  max_power  seats  car_age  \n",
       "0    23.40  1248.0      74.00    5.0        9  \n",
       "1    21.14  1498.0     103.52    5.0        9  \n",
       "2    17.70  1497.0      78.00    5.0       17  \n",
       "3    23.00  1396.0      90.00    5.0       13  \n",
       "4    16.10  1298.0      88.20    5.0       16  "
      ]
     },
     "execution_count": 16,
     "metadata": {},
     "output_type": "execute_result"
    }
   ],
   "source": [
    "data.head()"
   ]
  },
  {
   "cell_type": "markdown",
   "id": "a04a7de2",
   "metadata": {},
   "source": [
    "We replaced all empty string with 0, to convert it into a float or int datatype. but to see the null values while keeping the data type of the features same, we have to replace all 0 with NaN."
   ]
  },
  {
   "cell_type": "code",
   "execution_count": 17,
   "id": "9d230278",
   "metadata": {},
   "outputs": [],
   "source": [
    "data.replace(0, np.nan, inplace=True)"
   ]
  },
  {
   "cell_type": "markdown",
   "id": "6508c7fa",
   "metadata": {},
   "source": [
    "Making list of intiger/float and object type feature"
   ]
  },
  {
   "cell_type": "code",
   "execution_count": 18,
   "id": "311cc097",
   "metadata": {},
   "outputs": [],
   "source": [
    "column_int=[]\n",
    "column_obj=[]\n",
    "for col in data:\n",
    "    dataTypeObj = data.dtypes[col]\n",
    "    if dataTypeObj == np.int64 or dataTypeObj == np.float64 :\n",
    "        column_int.append(col)\n",
    "    if dataTypeObj== np.object:\n",
    "        column_obj.append(col)"
   ]
  },
  {
   "cell_type": "code",
   "execution_count": 19,
   "id": "020560f3",
   "metadata": {},
   "outputs": [
    {
     "data": {
      "text/plain": [
       "['selling_price',\n",
       " 'km_driven',\n",
       " 'mileage',\n",
       " 'engine',\n",
       " 'max_power',\n",
       " 'seats',\n",
       " 'car_age']"
      ]
     },
     "execution_count": 19,
     "metadata": {},
     "output_type": "execute_result"
    }
   ],
   "source": [
    "column_int"
   ]
  },
  {
   "cell_type": "code",
   "execution_count": 20,
   "id": "338efb3e",
   "metadata": {},
   "outputs": [
    {
     "data": {
      "text/plain": [
       "['fuel', 'seller_type', 'transmission', 'owner']"
      ]
     },
     "execution_count": 20,
     "metadata": {},
     "output_type": "execute_result"
    }
   ],
   "source": [
    "column_obj"
   ]
  },
  {
   "cell_type": "markdown",
   "id": "f65838d4",
   "metadata": {},
   "source": [
    "Checking for null values"
   ]
  },
  {
   "cell_type": "code",
   "execution_count": 21,
   "id": "a29215f9",
   "metadata": {},
   "outputs": [
    {
     "data": {
      "text/plain": [
       "selling_price      0\n",
       "km_driven          0\n",
       "fuel               0\n",
       "seller_type        0\n",
       "transmission       0\n",
       "owner              0\n",
       "mileage          238\n",
       "engine           221\n",
       "max_power        222\n",
       "seats            221\n",
       "car_age            0\n",
       "dtype: int64"
      ]
     },
     "execution_count": 21,
     "metadata": {},
     "output_type": "execute_result"
    }
   ],
   "source": [
    "data.isnull().sum()"
   ]
  },
  {
   "cell_type": "markdown",
   "id": "ea13ce04",
   "metadata": {},
   "source": [
    "Finding percentage of missing values"
   ]
  },
  {
   "cell_type": "code",
   "execution_count": 22,
   "id": "e35a6626",
   "metadata": {},
   "outputs": [
    {
     "data": {
      "text/html": [
       "<div>\n",
       "<style scoped>\n",
       "    .dataframe tbody tr th:only-of-type {\n",
       "        vertical-align: middle;\n",
       "    }\n",
       "\n",
       "    .dataframe tbody tr th {\n",
       "        vertical-align: top;\n",
       "    }\n",
       "\n",
       "    .dataframe thead th {\n",
       "        text-align: right;\n",
       "    }\n",
       "</style>\n",
       "<table border=\"1\" class=\"dataframe\">\n",
       "  <thead>\n",
       "    <tr style=\"text-align: right;\">\n",
       "      <th></th>\n",
       "      <th>0</th>\n",
       "    </tr>\n",
       "  </thead>\n",
       "  <tbody>\n",
       "    <tr>\n",
       "      <th>selling_price</th>\n",
       "      <td>0.00</td>\n",
       "    </tr>\n",
       "    <tr>\n",
       "      <th>km_driven</th>\n",
       "      <td>0.00</td>\n",
       "    </tr>\n",
       "    <tr>\n",
       "      <th>fuel</th>\n",
       "      <td>0.00</td>\n",
       "    </tr>\n",
       "    <tr>\n",
       "      <th>seller_type</th>\n",
       "      <td>0.00</td>\n",
       "    </tr>\n",
       "    <tr>\n",
       "      <th>transmission</th>\n",
       "      <td>0.00</td>\n",
       "    </tr>\n",
       "    <tr>\n",
       "      <th>owner</th>\n",
       "      <td>0.00</td>\n",
       "    </tr>\n",
       "    <tr>\n",
       "      <th>mileage</th>\n",
       "      <td>2.93</td>\n",
       "    </tr>\n",
       "    <tr>\n",
       "      <th>engine</th>\n",
       "      <td>2.72</td>\n",
       "    </tr>\n",
       "    <tr>\n",
       "      <th>max_power</th>\n",
       "      <td>2.73</td>\n",
       "    </tr>\n",
       "    <tr>\n",
       "      <th>seats</th>\n",
       "      <td>2.72</td>\n",
       "    </tr>\n",
       "    <tr>\n",
       "      <th>car_age</th>\n",
       "      <td>0.00</td>\n",
       "    </tr>\n",
       "  </tbody>\n",
       "</table>\n",
       "</div>"
      ],
      "text/plain": [
       "                  0\n",
       "selling_price  0.00\n",
       "km_driven      0.00\n",
       "fuel           0.00\n",
       "seller_type    0.00\n",
       "transmission   0.00\n",
       "owner          0.00\n",
       "mileage        2.93\n",
       "engine         2.72\n",
       "max_power      2.73\n",
       "seats          2.72\n",
       "car_age        0.00"
      ]
     },
     "execution_count": 22,
     "metadata": {},
     "output_type": "execute_result"
    }
   ],
   "source": [
    "percent_missing = data.isnull().sum() * 100 / len(data)\n",
    "mis_percent=pd.DataFrame(percent_missing.round(2))\n",
    "mis_percent"
   ]
  },
  {
   "cell_type": "markdown",
   "id": "89202699",
   "metadata": {},
   "source": [
    "Handling missing values"
   ]
  },
  {
   "cell_type": "code",
   "execution_count": 23,
   "id": "71f54fef",
   "metadata": {},
   "outputs": [
    {
     "data": {
      "text/plain": [
       "selling_price      0\n",
       "km_driven          0\n",
       "fuel               0\n",
       "seller_type        0\n",
       "transmission       0\n",
       "owner              0\n",
       "mileage          238\n",
       "engine           221\n",
       "max_power        222\n",
       "seats            221\n",
       "car_age            0\n",
       "dtype: int64"
      ]
     },
     "execution_count": 23,
     "metadata": {},
     "output_type": "execute_result"
    }
   ],
   "source": [
    "data.isnull().sum()"
   ]
  },
  {
   "cell_type": "code",
   "execution_count": 24,
   "id": "cc15c327",
   "metadata": {},
   "outputs": [],
   "source": [
    "for i in data[column_int]:\n",
    "    data[i]=data[i].fillna(data[i].median())"
   ]
  },
  {
   "cell_type": "code",
   "execution_count": 25,
   "id": "36f59853",
   "metadata": {},
   "outputs": [],
   "source": [
    "for i in data[column_obj]:\n",
    "    data[i]=data[i].fillna(data[i].mode())"
   ]
  },
  {
   "cell_type": "code",
   "execution_count": 26,
   "id": "5742a428",
   "metadata": {},
   "outputs": [
    {
     "data": {
      "text/plain": [
       "selling_price    0\n",
       "km_driven        0\n",
       "fuel             0\n",
       "seller_type      0\n",
       "transmission     0\n",
       "owner            0\n",
       "mileage          0\n",
       "engine           0\n",
       "max_power        0\n",
       "seats            0\n",
       "car_age          0\n",
       "dtype: int64"
      ]
     },
     "execution_count": 26,
     "metadata": {},
     "output_type": "execute_result"
    }
   ],
   "source": [
    "data.isnull().sum()"
   ]
  },
  {
   "cell_type": "markdown",
   "id": "1d907554",
   "metadata": {},
   "source": [
    "Creating input ant output features"
   ]
  },
  {
   "cell_type": "code",
   "execution_count": 27,
   "id": "4fe17c07",
   "metadata": {},
   "outputs": [
    {
     "data": {
      "text/plain": [
       "(8128, 11)"
      ]
     },
     "execution_count": 27,
     "metadata": {},
     "output_type": "execute_result"
    }
   ],
   "source": [
    "data.shape"
   ]
  },
  {
   "cell_type": "code",
   "execution_count": 28,
   "id": "3f90b002",
   "metadata": {},
   "outputs": [],
   "source": [
    "x=data.drop([\"selling_price\"], axis=1)\n",
    "y=data.selling_price\n",
    "\n",
    "\n",
    "column_int.remove(\"selling_price\")\n",
    "#we removed output feature name from the list, beacuse in x, the output column name dows not exist"
   ]
  },
  {
   "cell_type": "code",
   "execution_count": 29,
   "id": "08f47a9e",
   "metadata": {},
   "outputs": [
    {
     "data": {
      "text/html": [
       "<div>\n",
       "<style scoped>\n",
       "    .dataframe tbody tr th:only-of-type {\n",
       "        vertical-align: middle;\n",
       "    }\n",
       "\n",
       "    .dataframe tbody tr th {\n",
       "        vertical-align: top;\n",
       "    }\n",
       "\n",
       "    .dataframe thead th {\n",
       "        text-align: right;\n",
       "    }\n",
       "</style>\n",
       "<table border=\"1\" class=\"dataframe\">\n",
       "  <thead>\n",
       "    <tr style=\"text-align: right;\">\n",
       "      <th></th>\n",
       "      <th>km_driven</th>\n",
       "      <th>fuel</th>\n",
       "      <th>seller_type</th>\n",
       "      <th>transmission</th>\n",
       "      <th>owner</th>\n",
       "      <th>mileage</th>\n",
       "      <th>engine</th>\n",
       "      <th>max_power</th>\n",
       "      <th>seats</th>\n",
       "      <th>car_age</th>\n",
       "    </tr>\n",
       "  </thead>\n",
       "  <tbody>\n",
       "    <tr>\n",
       "      <th>0</th>\n",
       "      <td>145500</td>\n",
       "      <td>Diesel</td>\n",
       "      <td>Individual</td>\n",
       "      <td>Manual</td>\n",
       "      <td>First Owner</td>\n",
       "      <td>23.40</td>\n",
       "      <td>1248.0</td>\n",
       "      <td>74.00</td>\n",
       "      <td>5.0</td>\n",
       "      <td>9</td>\n",
       "    </tr>\n",
       "    <tr>\n",
       "      <th>1</th>\n",
       "      <td>120000</td>\n",
       "      <td>Diesel</td>\n",
       "      <td>Individual</td>\n",
       "      <td>Manual</td>\n",
       "      <td>Second Owner</td>\n",
       "      <td>21.14</td>\n",
       "      <td>1498.0</td>\n",
       "      <td>103.52</td>\n",
       "      <td>5.0</td>\n",
       "      <td>9</td>\n",
       "    </tr>\n",
       "    <tr>\n",
       "      <th>2</th>\n",
       "      <td>140000</td>\n",
       "      <td>Petrol</td>\n",
       "      <td>Individual</td>\n",
       "      <td>Manual</td>\n",
       "      <td>Third Owner</td>\n",
       "      <td>17.70</td>\n",
       "      <td>1497.0</td>\n",
       "      <td>78.00</td>\n",
       "      <td>5.0</td>\n",
       "      <td>17</td>\n",
       "    </tr>\n",
       "    <tr>\n",
       "      <th>3</th>\n",
       "      <td>127000</td>\n",
       "      <td>Diesel</td>\n",
       "      <td>Individual</td>\n",
       "      <td>Manual</td>\n",
       "      <td>First Owner</td>\n",
       "      <td>23.00</td>\n",
       "      <td>1396.0</td>\n",
       "      <td>90.00</td>\n",
       "      <td>5.0</td>\n",
       "      <td>13</td>\n",
       "    </tr>\n",
       "    <tr>\n",
       "      <th>4</th>\n",
       "      <td>120000</td>\n",
       "      <td>Petrol</td>\n",
       "      <td>Individual</td>\n",
       "      <td>Manual</td>\n",
       "      <td>First Owner</td>\n",
       "      <td>16.10</td>\n",
       "      <td>1298.0</td>\n",
       "      <td>88.20</td>\n",
       "      <td>5.0</td>\n",
       "      <td>16</td>\n",
       "    </tr>\n",
       "    <tr>\n",
       "      <th>...</th>\n",
       "      <td>...</td>\n",
       "      <td>...</td>\n",
       "      <td>...</td>\n",
       "      <td>...</td>\n",
       "      <td>...</td>\n",
       "      <td>...</td>\n",
       "      <td>...</td>\n",
       "      <td>...</td>\n",
       "      <td>...</td>\n",
       "      <td>...</td>\n",
       "    </tr>\n",
       "    <tr>\n",
       "      <th>8123</th>\n",
       "      <td>110000</td>\n",
       "      <td>Petrol</td>\n",
       "      <td>Individual</td>\n",
       "      <td>Manual</td>\n",
       "      <td>First Owner</td>\n",
       "      <td>18.50</td>\n",
       "      <td>1197.0</td>\n",
       "      <td>82.85</td>\n",
       "      <td>5.0</td>\n",
       "      <td>10</td>\n",
       "    </tr>\n",
       "    <tr>\n",
       "      <th>8124</th>\n",
       "      <td>119000</td>\n",
       "      <td>Diesel</td>\n",
       "      <td>Individual</td>\n",
       "      <td>Manual</td>\n",
       "      <td>Fourth &amp; Above Owner</td>\n",
       "      <td>16.80</td>\n",
       "      <td>1493.0</td>\n",
       "      <td>110.00</td>\n",
       "      <td>5.0</td>\n",
       "      <td>16</td>\n",
       "    </tr>\n",
       "    <tr>\n",
       "      <th>8125</th>\n",
       "      <td>120000</td>\n",
       "      <td>Diesel</td>\n",
       "      <td>Individual</td>\n",
       "      <td>Manual</td>\n",
       "      <td>First Owner</td>\n",
       "      <td>19.30</td>\n",
       "      <td>1248.0</td>\n",
       "      <td>73.90</td>\n",
       "      <td>5.0</td>\n",
       "      <td>14</td>\n",
       "    </tr>\n",
       "    <tr>\n",
       "      <th>8126</th>\n",
       "      <td>25000</td>\n",
       "      <td>Diesel</td>\n",
       "      <td>Individual</td>\n",
       "      <td>Manual</td>\n",
       "      <td>First Owner</td>\n",
       "      <td>23.57</td>\n",
       "      <td>1396.0</td>\n",
       "      <td>70.00</td>\n",
       "      <td>5.0</td>\n",
       "      <td>10</td>\n",
       "    </tr>\n",
       "    <tr>\n",
       "      <th>8127</th>\n",
       "      <td>25000</td>\n",
       "      <td>Diesel</td>\n",
       "      <td>Individual</td>\n",
       "      <td>Manual</td>\n",
       "      <td>First Owner</td>\n",
       "      <td>23.57</td>\n",
       "      <td>1396.0</td>\n",
       "      <td>70.00</td>\n",
       "      <td>5.0</td>\n",
       "      <td>10</td>\n",
       "    </tr>\n",
       "  </tbody>\n",
       "</table>\n",
       "<p>8128 rows × 10 columns</p>\n",
       "</div>"
      ],
      "text/plain": [
       "      km_driven    fuel seller_type transmission                 owner  \\\n",
       "0        145500  Diesel  Individual       Manual           First Owner   \n",
       "1        120000  Diesel  Individual       Manual          Second Owner   \n",
       "2        140000  Petrol  Individual       Manual           Third Owner   \n",
       "3        127000  Diesel  Individual       Manual           First Owner   \n",
       "4        120000  Petrol  Individual       Manual           First Owner   \n",
       "...         ...     ...         ...          ...                   ...   \n",
       "8123     110000  Petrol  Individual       Manual           First Owner   \n",
       "8124     119000  Diesel  Individual       Manual  Fourth & Above Owner   \n",
       "8125     120000  Diesel  Individual       Manual           First Owner   \n",
       "8126      25000  Diesel  Individual       Manual           First Owner   \n",
       "8127      25000  Diesel  Individual       Manual           First Owner   \n",
       "\n",
       "      mileage  engine  max_power  seats  car_age  \n",
       "0       23.40  1248.0      74.00    5.0        9  \n",
       "1       21.14  1498.0     103.52    5.0        9  \n",
       "2       17.70  1497.0      78.00    5.0       17  \n",
       "3       23.00  1396.0      90.00    5.0       13  \n",
       "4       16.10  1298.0      88.20    5.0       16  \n",
       "...       ...     ...        ...    ...      ...  \n",
       "8123    18.50  1197.0      82.85    5.0       10  \n",
       "8124    16.80  1493.0     110.00    5.0       16  \n",
       "8125    19.30  1248.0      73.90    5.0       14  \n",
       "8126    23.57  1396.0      70.00    5.0       10  \n",
       "8127    23.57  1396.0      70.00    5.0       10  \n",
       "\n",
       "[8128 rows x 10 columns]"
      ]
     },
     "execution_count": 29,
     "metadata": {},
     "output_type": "execute_result"
    }
   ],
   "source": [
    "x"
   ]
  },
  {
   "cell_type": "code",
   "execution_count": 30,
   "id": "c27c5c89",
   "metadata": {},
   "outputs": [
    {
     "data": {
      "text/plain": [
       "0       450000\n",
       "1       370000\n",
       "2       158000\n",
       "3       225000\n",
       "4       130000\n",
       "         ...  \n",
       "8123    320000\n",
       "8124    135000\n",
       "8125    382000\n",
       "8126    290000\n",
       "8127    290000\n",
       "Name: selling_price, Length: 8128, dtype: int64"
      ]
     },
     "execution_count": 30,
     "metadata": {},
     "output_type": "execute_result"
    }
   ],
   "source": [
    "y"
   ]
  },
  {
   "cell_type": "markdown",
   "id": "7ff35ef0",
   "metadata": {},
   "source": [
    "Checking for outliers by using boxplot and IQR method"
   ]
  },
  {
   "cell_type": "code",
   "execution_count": 31,
   "id": "6598cea9",
   "metadata": {},
   "outputs": [
    {
     "data": {
      "image/png": "[encoded data removed]",
      "text/plain": [
       "<Figure size 1080x1080 with 9 Axes>"
      ]
     },
     "metadata": {
      "needs_background": "light"
     },
     "output_type": "display_data"
    }
   ],
   "source": [
    "x.plot(kind=\"box\", subplots=True, layout=(3,3), figsize=(15,15));"
   ]
  },
  {
   "cell_type": "code",
   "execution_count": 32,
   "id": "55ba91fd",
   "metadata": {},
   "outputs": [],
   "source": [
    "for i in column_int:\n",
    "    Q3=np.percentile(x[i], 75)\n",
    "    Q1=np.percentile(x[i], 25)\n",
    "    IQR=Q3-Q1\n",
    "    UB=Q3+(1.5*IQR)\n",
    "    LB=Q1-(1.5*IQR)\n",
    "\n",
    "    x[i]=x[i].apply(lambda x:UB if x>UB else x)\n",
    "    x[i]=x[i].apply(lambda y:LB if y<LB else y)"
   ]
  },
  {
   "cell_type": "code",
   "execution_count": 33,
   "id": "29ccd781",
   "metadata": {},
   "outputs": [
    {
     "data": {
      "image/png": "[encoded data removed]",
      "text/plain": [
       "<Figure size 1080x1080 with 9 Axes>"
      ]
     },
     "metadata": {
      "needs_background": "light"
     },
     "output_type": "display_data"
    }
   ],
   "source": [
    "x.plot(kind=\"box\", subplots=True, layout=(3,3), figsize=(15,15));"
   ]
  },
  {
   "cell_type": "markdown",
   "id": "3b06734e",
   "metadata": {},
   "source": [
    "Before encoding any categorical feature lets check for feature importance"
   ]
  },
  {
   "cell_type": "markdown",
   "id": "885cb9c3",
   "metadata": {},
   "source": [
    "Encode all categorical values"
   ]
  },
  {
   "cell_type": "markdown",
   "id": "185f2a57",
   "metadata": {},
   "source": [
    "To encode all categorical values, we have to check value counts for each categorical features."
   ]
  },
  {
   "cell_type": "code",
   "execution_count": 34,
   "id": "7e8a9695",
   "metadata": {},
   "outputs": [
    {
     "name": "stdout",
     "output_type": "stream",
     "text": [
      "__________________________________________________\n",
      "Column name: fuel\n"
     ]
    },
    {
     "data": {
      "text/plain": [
       "Diesel    4402\n",
       "Petrol    3631\n",
       "CNG         57\n",
       "LPG         38\n",
       "Name: fuel, dtype: int64"
      ]
     },
     "metadata": {},
     "output_type": "display_data"
    },
    {
     "name": "stdout",
     "output_type": "stream",
     "text": [
      "__________________________________________________\n",
      "__________________________________________________\n",
      "Column name: seller_type\n"
     ]
    },
    {
     "data": {
      "text/plain": [
       "Individual          6766\n",
       "Dealer              1126\n",
       "Trustmark Dealer     236\n",
       "Name: seller_type, dtype: int64"
      ]
     },
     "metadata": {},
     "output_type": "display_data"
    },
    {
     "name": "stdout",
     "output_type": "stream",
     "text": [
      "__________________________________________________\n",
      "__________________________________________________\n",
      "Column name: transmission\n"
     ]
    },
    {
     "data": {
      "text/plain": [
       "Manual       7078\n",
       "Automatic    1050\n",
       "Name: transmission, dtype: int64"
      ]
     },
     "metadata": {},
     "output_type": "display_data"
    },
    {
     "name": "stdout",
     "output_type": "stream",
     "text": [
      "__________________________________________________\n",
      "__________________________________________________\n",
      "Column name: owner\n"
     ]
    },
    {
     "data": {
      "text/plain": [
       "First Owner             5289\n",
       "Second Owner            2105\n",
       "Third Owner              555\n",
       "Fourth & Above Owner     174\n",
       "Test Drive Car             5\n",
       "Name: owner, dtype: int64"
      ]
     },
     "metadata": {},
     "output_type": "display_data"
    },
    {
     "name": "stdout",
     "output_type": "stream",
     "text": [
      "__________________________________________________\n"
     ]
    }
   ],
   "source": [
    "for i in column_obj:\n",
    "    print(\"_\"*50)\n",
    "    print(\"Column name:\", i)\n",
    "    display(x[i].value_counts())\n",
    "    print(\"_\"*50)"
   ]
  },
  {
   "cell_type": "code",
   "execution_count": 35,
   "id": "3a0b554b",
   "metadata": {},
   "outputs": [
    {
     "data": {
      "text/html": [
       "<div>\n",
       "<style scoped>\n",
       "    .dataframe tbody tr th:only-of-type {\n",
       "        vertical-align: middle;\n",
       "    }\n",
       "\n",
       "    .dataframe tbody tr th {\n",
       "        vertical-align: top;\n",
       "    }\n",
       "\n",
       "    .dataframe thead th {\n",
       "        text-align: right;\n",
       "    }\n",
       "</style>\n",
       "<table border=\"1\" class=\"dataframe\">\n",
       "  <thead>\n",
       "    <tr style=\"text-align: right;\">\n",
       "      <th></th>\n",
       "      <th>km_driven</th>\n",
       "      <th>fuel</th>\n",
       "      <th>seller_type</th>\n",
       "      <th>transmission</th>\n",
       "      <th>owner</th>\n",
       "      <th>mileage</th>\n",
       "      <th>engine</th>\n",
       "      <th>max_power</th>\n",
       "      <th>seats</th>\n",
       "      <th>car_age</th>\n",
       "    </tr>\n",
       "  </thead>\n",
       "  <tbody>\n",
       "    <tr>\n",
       "      <th>0</th>\n",
       "      <td>145500.0</td>\n",
       "      <td>1</td>\n",
       "      <td>1</td>\n",
       "      <td>1</td>\n",
       "      <td>1</td>\n",
       "      <td>23.40</td>\n",
       "      <td>1248.0</td>\n",
       "      <td>74.00</td>\n",
       "      <td>5.0</td>\n",
       "      <td>9.0</td>\n",
       "    </tr>\n",
       "    <tr>\n",
       "      <th>1</th>\n",
       "      <td>120000.0</td>\n",
       "      <td>1</td>\n",
       "      <td>1</td>\n",
       "      <td>1</td>\n",
       "      <td>2</td>\n",
       "      <td>21.14</td>\n",
       "      <td>1498.0</td>\n",
       "      <td>103.52</td>\n",
       "      <td>5.0</td>\n",
       "      <td>9.0</td>\n",
       "    </tr>\n",
       "    <tr>\n",
       "      <th>2</th>\n",
       "      <td>140000.0</td>\n",
       "      <td>2</td>\n",
       "      <td>1</td>\n",
       "      <td>1</td>\n",
       "      <td>3</td>\n",
       "      <td>17.70</td>\n",
       "      <td>1497.0</td>\n",
       "      <td>78.00</td>\n",
       "      <td>5.0</td>\n",
       "      <td>17.0</td>\n",
       "    </tr>\n",
       "    <tr>\n",
       "      <th>3</th>\n",
       "      <td>127000.0</td>\n",
       "      <td>1</td>\n",
       "      <td>1</td>\n",
       "      <td>1</td>\n",
       "      <td>1</td>\n",
       "      <td>23.00</td>\n",
       "      <td>1396.0</td>\n",
       "      <td>90.00</td>\n",
       "      <td>5.0</td>\n",
       "      <td>13.0</td>\n",
       "    </tr>\n",
       "    <tr>\n",
       "      <th>4</th>\n",
       "      <td>120000.0</td>\n",
       "      <td>2</td>\n",
       "      <td>1</td>\n",
       "      <td>1</td>\n",
       "      <td>1</td>\n",
       "      <td>16.10</td>\n",
       "      <td>1298.0</td>\n",
       "      <td>88.20</td>\n",
       "      <td>5.0</td>\n",
       "      <td>16.0</td>\n",
       "    </tr>\n",
       "    <tr>\n",
       "      <th>5</th>\n",
       "      <td>45000.0</td>\n",
       "      <td>2</td>\n",
       "      <td>1</td>\n",
       "      <td>1</td>\n",
       "      <td>1</td>\n",
       "      <td>20.14</td>\n",
       "      <td>1197.0</td>\n",
       "      <td>81.86</td>\n",
       "      <td>5.0</td>\n",
       "      <td>6.0</td>\n",
       "    </tr>\n",
       "    <tr>\n",
       "      <th>6</th>\n",
       "      <td>175000.0</td>\n",
       "      <td>4</td>\n",
       "      <td>1</td>\n",
       "      <td>1</td>\n",
       "      <td>1</td>\n",
       "      <td>24.22</td>\n",
       "      <td>1061.0</td>\n",
       "      <td>57.50</td>\n",
       "      <td>5.0</td>\n",
       "      <td>16.0</td>\n",
       "    </tr>\n",
       "    <tr>\n",
       "      <th>7</th>\n",
       "      <td>5000.0</td>\n",
       "      <td>2</td>\n",
       "      <td>1</td>\n",
       "      <td>1</td>\n",
       "      <td>2</td>\n",
       "      <td>16.10</td>\n",
       "      <td>796.0</td>\n",
       "      <td>37.00</td>\n",
       "      <td>5.0</td>\n",
       "      <td>21.0</td>\n",
       "    </tr>\n",
       "    <tr>\n",
       "      <th>8</th>\n",
       "      <td>90000.0</td>\n",
       "      <td>1</td>\n",
       "      <td>1</td>\n",
       "      <td>1</td>\n",
       "      <td>1</td>\n",
       "      <td>23.59</td>\n",
       "      <td>1364.0</td>\n",
       "      <td>67.10</td>\n",
       "      <td>5.0</td>\n",
       "      <td>12.0</td>\n",
       "    </tr>\n",
       "    <tr>\n",
       "      <th>9</th>\n",
       "      <td>169000.0</td>\n",
       "      <td>1</td>\n",
       "      <td>1</td>\n",
       "      <td>1</td>\n",
       "      <td>1</td>\n",
       "      <td>20.00</td>\n",
       "      <td>1399.0</td>\n",
       "      <td>68.10</td>\n",
       "      <td>5.0</td>\n",
       "      <td>10.0</td>\n",
       "    </tr>\n",
       "    <tr>\n",
       "      <th>10</th>\n",
       "      <td>68000.0</td>\n",
       "      <td>1</td>\n",
       "      <td>1</td>\n",
       "      <td>1</td>\n",
       "      <td>2</td>\n",
       "      <td>19.01</td>\n",
       "      <td>1461.0</td>\n",
       "      <td>108.45</td>\n",
       "      <td>5.0</td>\n",
       "      <td>9.0</td>\n",
       "    </tr>\n",
       "    <tr>\n",
       "      <th>11</th>\n",
       "      <td>100000.0</td>\n",
       "      <td>2</td>\n",
       "      <td>1</td>\n",
       "      <td>1</td>\n",
       "      <td>2</td>\n",
       "      <td>17.30</td>\n",
       "      <td>993.0</td>\n",
       "      <td>60.00</td>\n",
       "      <td>5.0</td>\n",
       "      <td>18.0</td>\n",
       "    </tr>\n",
       "    <tr>\n",
       "      <th>12</th>\n",
       "      <td>140000.0</td>\n",
       "      <td>1</td>\n",
       "      <td>1</td>\n",
       "      <td>1</td>\n",
       "      <td>2</td>\n",
       "      <td>19.30</td>\n",
       "      <td>1248.0</td>\n",
       "      <td>73.90</td>\n",
       "      <td>5.0</td>\n",
       "      <td>14.0</td>\n",
       "    </tr>\n",
       "    <tr>\n",
       "      <th>13</th>\n",
       "      <td>80000.0</td>\n",
       "      <td>2</td>\n",
       "      <td>1</td>\n",
       "      <td>1</td>\n",
       "      <td>2</td>\n",
       "      <td>19.33</td>\n",
       "      <td>1248.0</td>\n",
       "      <td>82.00</td>\n",
       "      <td>5.0</td>\n",
       "      <td>16.0</td>\n",
       "    </tr>\n",
       "    <tr>\n",
       "      <th>14</th>\n",
       "      <td>90000.0</td>\n",
       "      <td>2</td>\n",
       "      <td>1</td>\n",
       "      <td>1</td>\n",
       "      <td>2</td>\n",
       "      <td>18.90</td>\n",
       "      <td>1061.0</td>\n",
       "      <td>67.00</td>\n",
       "      <td>5.0</td>\n",
       "      <td>14.0</td>\n",
       "    </tr>\n",
       "  </tbody>\n",
       "</table>\n",
       "</div>"
      ],
      "text/plain": [
       "    km_driven  fuel  seller_type  transmission  owner  mileage  engine  \\\n",
       "0    145500.0     1            1             1      1    23.40  1248.0   \n",
       "1    120000.0     1            1             1      2    21.14  1498.0   \n",
       "2    140000.0     2            1             1      3    17.70  1497.0   \n",
       "3    127000.0     1            1             1      1    23.00  1396.0   \n",
       "4    120000.0     2            1             1      1    16.10  1298.0   \n",
       "5     45000.0     2            1             1      1    20.14  1197.0   \n",
       "6    175000.0     4            1             1      1    24.22  1061.0   \n",
       "7      5000.0     2            1             1      2    16.10   796.0   \n",
       "8     90000.0     1            1             1      1    23.59  1364.0   \n",
       "9    169000.0     1            1             1      1    20.00  1399.0   \n",
       "10    68000.0     1            1             1      2    19.01  1461.0   \n",
       "11   100000.0     2            1             1      2    17.30   993.0   \n",
       "12   140000.0     1            1             1      2    19.30  1248.0   \n",
       "13    80000.0     2            1             1      2    19.33  1248.0   \n",
       "14    90000.0     2            1             1      2    18.90  1061.0   \n",
       "\n",
       "    max_power  seats  car_age  \n",
       "0       74.00    5.0      9.0  \n",
       "1      103.52    5.0      9.0  \n",
       "2       78.00    5.0     17.0  \n",
       "3       90.00    5.0     13.0  \n",
       "4       88.20    5.0     16.0  \n",
       "5       81.86    5.0      6.0  \n",
       "6       57.50    5.0     16.0  \n",
       "7       37.00    5.0     21.0  \n",
       "8       67.10    5.0     12.0  \n",
       "9       68.10    5.0     10.0  \n",
       "10     108.45    5.0      9.0  \n",
       "11      60.00    5.0     18.0  \n",
       "12      73.90    5.0     14.0  \n",
       "13      82.00    5.0     16.0  \n",
       "14      67.00    5.0     14.0  "
      ]
     },
     "execution_count": 35,
     "metadata": {},
     "output_type": "execute_result"
    }
   ],
   "source": [
    "## We can use either get_dummies or use map function.\n",
    "x['fuel'] = x['fuel'].map({\"Diesel\":1, \"Petrol\":2, \"CNG\":3, \"LPG\":4})\n",
    "x['seller_type']=x['seller_type'].map({\"Individual\":1, \"Dealer\":2, \"Trustmark Dealer\":3})\n",
    "x[\"transmission\"]=x[\"transmission\"].map({\"Manual\":1, \"Automatic\":2})\n",
    "x[\"owner\"]=x[\"owner\"].map({\"First Owner\":1, \"Second Owner\":2, \"Third Owner\":3, \"Fourth & Above Owner\":4, \"Test Drive Car\":5})\n",
    "x.head(15)"
   ]
  },
  {
   "cell_type": "raw",
   "id": "24a720e2",
   "metadata": {},
   "source": [
    "x=pd.get_dummies(x,drop_first=True)\n",
    "x"
   ]
  },
  {
   "cell_type": "code",
   "execution_count": 36,
   "id": "1de4c4cd",
   "metadata": {},
   "outputs": [
    {
     "name": "stdout",
     "output_type": "stream",
     "text": [
      "[0.07526827 0.02311925 0.01982895 0.28074068 0.01172813 0.04010371\n",
      " 0.07236474 0.29659494 0.         0.18025134]\n",
      "Plotting graph of feature importances for better visualization\n"
     ]
    },
    {
     "data": {
      "image/png": "[encoded data removed]",
      "text/plain": [
       "<Figure size 432x288 with 1 Axes>"
      ]
     },
     "metadata": {
      "needs_background": "light"
     },
     "output_type": "display_data"
    },
    {
     "name": "stdout",
     "output_type": "stream",
     "text": [
      "______________________________________________________________________\n",
      "Getting importance of all features in descending order as a dataframe\n",
      "______________________________________________________________________\n"
     ]
    },
    {
     "data": {
      "text/html": [
       "<div>\n",
       "<style scoped>\n",
       "    .dataframe tbody tr th:only-of-type {\n",
       "        vertical-align: middle;\n",
       "    }\n",
       "\n",
       "    .dataframe tbody tr th {\n",
       "        vertical-align: top;\n",
       "    }\n",
       "\n",
       "    .dataframe thead th {\n",
       "        text-align: right;\n",
       "    }\n",
       "</style>\n",
       "<table border=\"1\" class=\"dataframe\">\n",
       "  <thead>\n",
       "    <tr style=\"text-align: right;\">\n",
       "      <th></th>\n",
       "      <th>Features</th>\n",
       "      <th>Importance</th>\n",
       "    </tr>\n",
       "  </thead>\n",
       "  <tbody>\n",
       "    <tr>\n",
       "      <th>7</th>\n",
       "      <td>max_power</td>\n",
       "      <td>0.296595</td>\n",
       "    </tr>\n",
       "    <tr>\n",
       "      <th>3</th>\n",
       "      <td>transmission</td>\n",
       "      <td>0.280741</td>\n",
       "    </tr>\n",
       "    <tr>\n",
       "      <th>9</th>\n",
       "      <td>car_age</td>\n",
       "      <td>0.180251</td>\n",
       "    </tr>\n",
       "    <tr>\n",
       "      <th>0</th>\n",
       "      <td>km_driven</td>\n",
       "      <td>0.075268</td>\n",
       "    </tr>\n",
       "    <tr>\n",
       "      <th>6</th>\n",
       "      <td>engine</td>\n",
       "      <td>0.072365</td>\n",
       "    </tr>\n",
       "    <tr>\n",
       "      <th>5</th>\n",
       "      <td>mileage</td>\n",
       "      <td>0.040104</td>\n",
       "    </tr>\n",
       "    <tr>\n",
       "      <th>1</th>\n",
       "      <td>fuel</td>\n",
       "      <td>0.023119</td>\n",
       "    </tr>\n",
       "    <tr>\n",
       "      <th>2</th>\n",
       "      <td>seller_type</td>\n",
       "      <td>0.019829</td>\n",
       "    </tr>\n",
       "    <tr>\n",
       "      <th>4</th>\n",
       "      <td>owner</td>\n",
       "      <td>0.011728</td>\n",
       "    </tr>\n",
       "    <tr>\n",
       "      <th>8</th>\n",
       "      <td>seats</td>\n",
       "      <td>0.000000</td>\n",
       "    </tr>\n",
       "  </tbody>\n",
       "</table>\n",
       "</div>"
      ],
      "text/plain": [
       "       Features  Importance\n",
       "7     max_power    0.296595\n",
       "3  transmission    0.280741\n",
       "9       car_age    0.180251\n",
       "0     km_driven    0.075268\n",
       "6        engine    0.072365\n",
       "5       mileage    0.040104\n",
       "1          fuel    0.023119\n",
       "2   seller_type    0.019829\n",
       "4         owner    0.011728\n",
       "8         seats    0.000000"
      ]
     },
     "metadata": {},
     "output_type": "display_data"
    }
   ],
   "source": [
    "from sklearn.ensemble import ExtraTreesRegressor\n",
    "import matplotlib.pyplot as plt\n",
    "model = ExtraTreesRegressor()\n",
    "model.fit(x, y)\n",
    "\n",
    "\n",
    "print(model.feature_importances_)\n",
    "\n",
    "\n",
    "\n",
    "#plot graph of feature importances for better visualization\n",
    "print(\"Plotting graph of feature importances for better visualization\")\n",
    "feat_importances = pd.Series(model.feature_importances_, index=x.columns)\n",
    "feat_importances.nlargest(x.shape[1]).plot(kind='barh')\n",
    "plt.show()\n",
    "\n",
    "print(\"_\"*70)\n",
    "#Getting importance of all features in descending order as a dataframe\n",
    "print(\"Getting importance of all features in descending order as a dataframe\")\n",
    "print(\"_\"*70)\n",
    "feat_importances.sort_values(ascending=False)\n",
    "feature_df=feat_importances.to_frame()\n",
    "DF=feat_importances.reset_index().rename(columns={\"index\":\"Features\", 0:\"Importance\"})\n",
    "DF=DF.sort_values(by=['Importance'], ascending=False)\n",
    "display(DF)"
   ]
  },
  {
   "cell_type": "markdown",
   "id": "de02263b",
   "metadata": {},
   "source": [
    "By observing feature importance graph, we can say, seats, owner and seller type are not so important. We can drop them off."
   ]
  },
  {
   "cell_type": "raw",
   "id": "1167b20f",
   "metadata": {},
   "source": [
    "x.drop([\"seats\", \"owner\", \"seller_type\"], axis=1)\n",
    "x.head()"
   ]
  },
  {
   "cell_type": "markdown",
   "id": "235fbfef",
   "metadata": {},
   "source": [
    "Scalling the data\n"
   ]
  },
  {
   "cell_type": "code",
   "execution_count": 37,
   "id": "e8164062",
   "metadata": {},
   "outputs": [],
   "source": [
    "from sklearn.preprocessing import StandardScaler\n",
    "\n",
    "scale=StandardScaler()\n",
    "\n",
    "x_scaled=scale.fit_transform(x)"
   ]
  },
  {
   "cell_type": "code",
   "execution_count": 38,
   "id": "c278b23e",
   "metadata": {},
   "outputs": [
    {
     "data": {
      "text/plain": [
       "array([[ 1.77174351, -0.87945986, -0.42300369, ..., -0.52297395,\n",
       "         0.        , -0.04098942],\n",
       "       [ 1.18643106, -0.87945986, -0.42300369, ...,  0.52206131,\n",
       "         0.        , -0.04098942],\n",
       "       [ 1.64549965,  0.97289819, -0.42300369, ..., -0.38137025,\n",
       "         0.        ,  2.00294928],\n",
       "       ...,\n",
       "       [ 1.18643106, -0.87945986, -0.42300369, ..., -0.52651404,\n",
       "         0.        ,  1.23647227],\n",
       "       [-0.99414476, -0.87945986, -0.42300369, ..., -0.66457764,\n",
       "         0.        ,  0.21450292],\n",
       "       [-0.99414476, -0.87945986, -0.42300369, ..., -0.66457764,\n",
       "         0.        ,  0.21450292]])"
      ]
     },
     "execution_count": 38,
     "metadata": {},
     "output_type": "execute_result"
    }
   ],
   "source": [
    "x_scaled"
   ]
  },
  {
   "cell_type": "markdown",
   "id": "03e37418",
   "metadata": {},
   "source": [
    "Since it's an array, so we should convert it into dataframe."
   ]
  },
  {
   "cell_type": "code",
   "execution_count": 39,
   "id": "6cf11726",
   "metadata": {},
   "outputs": [],
   "source": [
    "X_scaled=pd.DataFrame(data=x_scaled, columns=x.columns)"
   ]
  },
  {
   "cell_type": "code",
   "execution_count": 40,
   "id": "79d13b02",
   "metadata": {},
   "outputs": [
    {
     "data": {
      "text/html": [
       "<div>\n",
       "<style scoped>\n",
       "    .dataframe tbody tr th:only-of-type {\n",
       "        vertical-align: middle;\n",
       "    }\n",
       "\n",
       "    .dataframe tbody tr th {\n",
       "        vertical-align: top;\n",
       "    }\n",
       "\n",
       "    .dataframe thead th {\n",
       "        text-align: right;\n",
       "    }\n",
       "</style>\n",
       "<table border=\"1\" class=\"dataframe\">\n",
       "  <thead>\n",
       "    <tr style=\"text-align: right;\">\n",
       "      <th></th>\n",
       "      <th>km_driven</th>\n",
       "      <th>fuel</th>\n",
       "      <th>seller_type</th>\n",
       "      <th>transmission</th>\n",
       "      <th>owner</th>\n",
       "      <th>mileage</th>\n",
       "      <th>engine</th>\n",
       "      <th>max_power</th>\n",
       "      <th>seats</th>\n",
       "      <th>car_age</th>\n",
       "    </tr>\n",
       "  </thead>\n",
       "  <tbody>\n",
       "    <tr>\n",
       "      <th>0</th>\n",
       "      <td>1.771744</td>\n",
       "      <td>-0.879460</td>\n",
       "      <td>-0.423004</td>\n",
       "      <td>-0.385158</td>\n",
       "      <td>-0.640403</td>\n",
       "      <td>0.987453</td>\n",
       "      <td>-0.400210</td>\n",
       "      <td>-0.522974</td>\n",
       "      <td>0.0</td>\n",
       "      <td>-0.040989</td>\n",
       "    </tr>\n",
       "    <tr>\n",
       "      <th>1</th>\n",
       "      <td>1.186431</td>\n",
       "      <td>-0.879460</td>\n",
       "      <td>-0.423004</td>\n",
       "      <td>-0.385158</td>\n",
       "      <td>0.745063</td>\n",
       "      <td>0.413304</td>\n",
       "      <td>0.214066</td>\n",
       "      <td>0.522061</td>\n",
       "      <td>0.0</td>\n",
       "      <td>-0.040989</td>\n",
       "    </tr>\n",
       "    <tr>\n",
       "      <th>2</th>\n",
       "      <td>1.645500</td>\n",
       "      <td>0.972898</td>\n",
       "      <td>-0.423004</td>\n",
       "      <td>-0.385158</td>\n",
       "      <td>2.130528</td>\n",
       "      <td>-0.460622</td>\n",
       "      <td>0.211609</td>\n",
       "      <td>-0.381370</td>\n",
       "      <td>0.0</td>\n",
       "      <td>2.002949</td>\n",
       "    </tr>\n",
       "    <tr>\n",
       "      <th>3</th>\n",
       "      <td>1.347105</td>\n",
       "      <td>-0.879460</td>\n",
       "      <td>-0.423004</td>\n",
       "      <td>-0.385158</td>\n",
       "      <td>-0.640403</td>\n",
       "      <td>0.885834</td>\n",
       "      <td>-0.036559</td>\n",
       "      <td>0.043441</td>\n",
       "      <td>0.0</td>\n",
       "      <td>0.980980</td>\n",
       "    </tr>\n",
       "    <tr>\n",
       "      <th>4</th>\n",
       "      <td>1.186431</td>\n",
       "      <td>0.972898</td>\n",
       "      <td>-0.423004</td>\n",
       "      <td>-0.385158</td>\n",
       "      <td>-0.640403</td>\n",
       "      <td>-0.867099</td>\n",
       "      <td>-0.277355</td>\n",
       "      <td>-0.020281</td>\n",
       "      <td>0.0</td>\n",
       "      <td>1.747457</td>\n",
       "    </tr>\n",
       "  </tbody>\n",
       "</table>\n",
       "</div>"
      ],
      "text/plain": [
       "   km_driven      fuel  seller_type  transmission     owner   mileage  \\\n",
       "0   1.771744 -0.879460    -0.423004     -0.385158 -0.640403  0.987453   \n",
       "1   1.186431 -0.879460    -0.423004     -0.385158  0.745063  0.413304   \n",
       "2   1.645500  0.972898    -0.423004     -0.385158  2.130528 -0.460622   \n",
       "3   1.347105 -0.879460    -0.423004     -0.385158 -0.640403  0.885834   \n",
       "4   1.186431  0.972898    -0.423004     -0.385158 -0.640403 -0.867099   \n",
       "\n",
       "     engine  max_power  seats   car_age  \n",
       "0 -0.400210  -0.522974    0.0 -0.040989  \n",
       "1  0.214066   0.522061    0.0 -0.040989  \n",
       "2  0.211609  -0.381370    0.0  2.002949  \n",
       "3 -0.036559   0.043441    0.0  0.980980  \n",
       "4 -0.277355  -0.020281    0.0  1.747457  "
      ]
     },
     "execution_count": 40,
     "metadata": {},
     "output_type": "execute_result"
    }
   ],
   "source": [
    "X_scaled.head()"
   ]
  },
  {
   "cell_type": "markdown",
   "id": "e5544a1b",
   "metadata": {},
   "source": [
    "Checking the distribution of output feature"
   ]
  },
  {
   "cell_type": "code",
   "execution_count": 41,
   "id": "ab29821b",
   "metadata": {},
   "outputs": [
    {
     "data": {
      "image/png": "[encoded data removed]",
      "text/plain": [
       "<Figure size 1080x360 with 1 Axes>"
      ]
     },
     "metadata": {
      "needs_background": "light"
     },
     "output_type": "display_data"
    }
   ],
   "source": [
    "y.plot(kind='kde', figsize=(15,5));"
   ]
  },
  {
   "cell_type": "markdown",
   "id": "a12cbf02",
   "metadata": {},
   "source": [
    "From the above diagram, it is clear that output feature distribution is RIGHT SKEWED. to make it normally distributed, we must perform transformation. (mostly logarithmic transfomation)"
   ]
  },
  {
   "cell_type": "code",
   "execution_count": 42,
   "id": "b7e1ae86",
   "metadata": {},
   "outputs": [],
   "source": [
    "y = np.log(y)"
   ]
  },
  {
   "cell_type": "code",
   "execution_count": 43,
   "id": "ff96dad0",
   "metadata": {},
   "outputs": [
    {
     "data": {
      "image/png": "[encoded data removed]",
      "text/plain": [
       "<Figure size 1080x360 with 1 Axes>"
      ]
     },
     "metadata": {
      "needs_background": "light"
     },
     "output_type": "display_data"
    }
   ],
   "source": [
    "y.plot(kind='kde', figsize=(15,5));"
   ]
  },
  {
   "cell_type": "markdown",
   "id": "3f055725",
   "metadata": {},
   "source": [
    "After applyting logarithmic transformation, mostly it is converted into a normally ditributed output feature. "
   ]
  },
  {
   "cell_type": "markdown",
   "id": "568a9878",
   "metadata": {},
   "source": [
    "Train Test Split"
   ]
  },
  {
   "cell_type": "code",
   "execution_count": 45,
   "id": "78b4d958",
   "metadata": {},
   "outputs": [
    {
     "name": "stdout",
     "output_type": "stream",
     "text": [
      "Shape of X train: (5445, 10)\n",
      "Shape of Y train: (5445,)\n",
      "Shape of X test: (2683, 10)\n",
      "Shape of Y test: (2683,)\n"
     ]
    }
   ],
   "source": [
    "from sklearn.model_selection import train_test_split\n",
    "X_train, X_test, y_train, y_test=train_test_split(X, Y, train_size=0.70)\n",
    "print(\"Shape of X train:\",X_train.shape)\n",
    "print(\"Shape of Y train:\",y_train.shape)\n",
    "print(\"Shape of X test:\",X_test.shape)\n",
    "print(\"Shape of Y test:\",y_test.shape)"
   ]
  },
  {
   "cell_type": "markdown",
   "id": "737b7d19",
   "metadata": {},
   "source": [
    "# REGRESSION MODEL"
   ]
  },
  {
   "cell_type": "markdown",
   "id": "4396fcbd",
   "metadata": {},
   "source": [
    "Definig model evolution metrics"
   ]
  },
  {
   "cell_type": "code",
   "execution_count": 46,
   "id": "6b9830fe",
   "metadata": {},
   "outputs": [],
   "source": [
    "def model_evaluate(y_test,y_pred):\n",
    "    mae = mean_absolute_error(y_test, y_pred)\n",
    "    mse = mean_squared_error(y_test, y_pred)\n",
    "    r2 = r2_score(y_test, y_pred)\n",
    "    print('MAE is {}'.format(round(mae, 3)))\n",
    "    print('MSE is {}'.format(round(mse, 3)))\n",
    "    print('R2 score is {}'.format(round(r2, 3)))"
   ]
  },
  {
   "cell_type": "markdown",
   "id": "939555d2",
   "metadata": {},
   "source": [
    "Linear Regression"
   ]
  },
  {
   "cell_type": "code",
   "execution_count": 47,
   "id": "dffb72bc",
   "metadata": {},
   "outputs": [
    {
     "name": "stdout",
     "output_type": "stream",
     "text": [
      "Scores of Linear Regression:\n",
      "MAE is 0.246\n",
      "MSE is 0.102\n",
      "R2 score is 0.854\n"
     ]
    }
   ],
   "source": [
    "from sklearn.linear_model import LinearRegression\n",
    "lr=LinearRegression()\n",
    "lr.fit(X_train, y_train)\n",
    "y_pred_lr=lr.predict(X_test)\n",
    "print(\"Scores of Linear Regression:\")\n",
    "model_evaluate(y_test,y_pred_lr)"
   ]
  },
  {
   "cell_type": "code",
   "execution_count": 48,
   "id": "1443195b",
   "metadata": {},
   "outputs": [
    {
     "data": {
      "image/png": "[encoded data removed]",
      "text/plain": [
       "<Figure size 432x288 with 1 Axes>"
      ]
     },
     "metadata": {
      "needs_background": "light"
     },
     "output_type": "display_data"
    }
   ],
   "source": [
    "sns.regplot(x=y_test,y=y_pred_lr)\n",
    "plt.show()"
   ]
  },
  {
   "cell_type": "markdown",
   "id": "4bf0499d",
   "metadata": {},
   "source": [
    "Desicion Tree Regressor"
   ]
  },
  {
   "cell_type": "code",
   "execution_count": 49,
   "id": "ba7b2e36",
   "metadata": {},
   "outputs": [
    {
     "name": "stdout",
     "output_type": "stream",
     "text": [
      "Scores of DT Regression:\n",
      "MAE is 0.189\n",
      "MSE is 0.085\n",
      "R2 score is 0.878\n"
     ]
    }
   ],
   "source": [
    "from sklearn.tree import DecisionTreeRegressor\n",
    "dt = DecisionTreeRegressor()\n",
    "dt.fit(X_train, y_train)\n",
    "y_pred_dt=dt.predict(X_test)\n",
    "print(\"Scores of DT Regression:\")\n",
    "model_evaluate(y_test,y_pred_dt)"
   ]
  },
  {
   "cell_type": "code",
   "execution_count": 50,
   "id": "97b471f5",
   "metadata": {},
   "outputs": [
    {
     "name": "stdout",
     "output_type": "stream",
     "text": [
      "Best classifier : DecisionTreeRegressor(max_depth=12)\n"
     ]
    }
   ],
   "source": [
    "parameter={\"max_depth\" : [1, 2, 3, 4, 5, 6, 7, 8, 9, 10, 11, 12, 13, 14, 15]}\n",
    "kf=KFold(n_splits=50)\n",
    "grid_sv = GridSearchCV(dt, cv=kf, param_grid=parameter, scoring='neg_mean_absolute_error')\n",
    "grid_sv.fit(X_train, y_train)\n",
    "print(\"Best classifier :\", grid_sv.best_estimator_)"
   ]
  },
  {
   "cell_type": "code",
   "execution_count": 51,
   "id": "20c087f5",
   "metadata": {},
   "outputs": [
    {
     "data": {
      "text/plain": [
       "{'max_depth': 12}"
      ]
     },
     "execution_count": 51,
     "metadata": {},
     "output_type": "execute_result"
    }
   ],
   "source": [
    "parameters=dict(grid_sv.best_params_)\n",
    "parameters"
   ]
  },
  {
   "cell_type": "code",
   "execution_count": 52,
   "id": "cdf08c66",
   "metadata": {},
   "outputs": [
    {
     "name": "stdout",
     "output_type": "stream",
     "text": [
      "Scores of DT Regression:\n",
      "MAE is 0.185\n",
      "MSE is 0.077\n",
      "R2 score is 0.889\n"
     ]
    }
   ],
   "source": [
    "dt = grid_sv.best_estimator_\n",
    "dt.fit(X_train, y_train)\n",
    "y_pred_DT=dt.predict(X_test)\n",
    "print(\"Scores of DT Regression:\")\n",
    "model_evaluate(y_test,y_pred_DT)"
   ]
  },
  {
   "cell_type": "code",
   "execution_count": 53,
   "id": "c75978cc",
   "metadata": {},
   "outputs": [
    {
     "data": {
      "image/png": "[encoded data removed]",
      "text/plain": [
       "<Figure size 432x288 with 1 Axes>"
      ]
     },
     "metadata": {
      "needs_background": "light"
     },
     "output_type": "display_data"
    }
   ],
   "source": [
    "sns.regplot(x=y_test,y=y_pred_DT)\n",
    "plt.show()"
   ]
  },
  {
   "cell_type": "markdown",
   "id": "54b634e5",
   "metadata": {},
   "source": [
    "KNN Regressor"
   ]
  },
  {
   "cell_type": "code",
   "execution_count": 54,
   "id": "ac000eee",
   "metadata": {},
   "outputs": [
    {
     "name": "stdout",
     "output_type": "stream",
     "text": [
      "Scores of KNN Regression:\n",
      "MAE is 0.203\n",
      "MSE is 0.084\n",
      "R2 score is 0.88\n"
     ]
    }
   ],
   "source": [
    "from sklearn.neighbors import KNeighborsRegressor\n",
    "knn = KNeighborsRegressor(n_neighbors=7)\n",
    "knn.fit(X_train, y_train)\n",
    "y_pred_knn=knn.predict(X_test)\n",
    "print(\"Scores of KNN Regression:\")\n",
    "model_evaluate(y_test,y_pred_knn)"
   ]
  },
  {
   "cell_type": "code",
   "execution_count": 55,
   "id": "88f9a3a0",
   "metadata": {},
   "outputs": [
    {
     "data": {
      "image/png": "[encoded data removed]",
      "text/plain": [
       "<Figure size 432x288 with 1 Axes>"
      ]
     },
     "metadata": {
      "needs_background": "light"
     },
     "output_type": "display_data"
    }
   ],
   "source": [
    "sns.regplot(x=y_test,y=y_pred_knn)\n",
    "plt.show()"
   ]
  },
  {
   "cell_type": "markdown",
   "id": "72a961a1",
   "metadata": {},
   "source": [
    "Gredient Boost Regressor"
   ]
  },
  {
   "cell_type": "code",
   "execution_count": 56,
   "id": "3fc9fa8c",
   "metadata": {},
   "outputs": [
    {
     "name": "stdout",
     "output_type": "stream",
     "text": [
      "Scores of GB Regression:\n",
      "MAE is 0.183\n",
      "MSE is 0.063\n",
      "R2 score is 0.91\n"
     ]
    }
   ],
   "source": [
    "from sklearn.ensemble import GradientBoostingRegressor\n",
    "gbr = GradientBoostingRegressor()\n",
    "\n",
    "gbr.fit(X_train, y_train)\n",
    "y_pred_gb=gbr.predict(X_test)\n",
    "print(\"Scores of GB Regression:\")\n",
    "model_evaluate(y_test,y_pred_gb)"
   ]
  },
  {
   "cell_type": "code",
   "execution_count": null,
   "id": "d4a7ea27",
   "metadata": {},
   "outputs": [],
   "source": []
  },
  {
   "cell_type": "code",
   "execution_count": 57,
   "id": "309d40ce",
   "metadata": {},
   "outputs": [
    {
     "data": {
      "image/png": "[encoded data removed]",
      "text/plain": [
       "<Figure size 432x288 with 1 Axes>"
      ]
     },
     "metadata": {
      "needs_background": "light"
     },
     "output_type": "display_data"
    }
   ],
   "source": [
    "sns.regplot(x=y_test,y=y_pred_gb)\n",
    "plt.show()"
   ]
  },
  {
   "cell_type": "code",
   "execution_count": 58,
   "id": "77f05bdd",
   "metadata": {},
   "outputs": [],
   "source": [
    "def all_regression_model(x, y):\n",
    "    \n",
    "    from sklearn.model_selection import train_test_split\n",
    "    X_train, X_test, y_train, y_test = train_test_split(X_scaled, y, test_size=0.33, random_state=42)\n",
    "    \n",
    "    print(\"Shape of X train:\",X_train.shape)\n",
    "    print(\"Shape of Y train:\",y_train.shape)\n",
    "    print(\"Shape of X test:\",X_test.shape)\n",
    "    print(\"Shape of Y test:\",y_test.shape)\n",
    "    print(\"-\"*80)\n",
    "    print(\"-\"*80)\n",
    "    \n",
    "    \n",
    "    \n",
    "    from sklearn.linear_model import LinearRegression\n",
    "    from sklearn.tree import DecisionTreeRegressor\n",
    "    from sklearn.ensemble import RandomForestRegressor\n",
    "    from sklearn.svm import SVR\n",
    "    from sklearn.neighbors import KNeighborsRegressor\n",
    "    from sklearn.ensemble import GradientBoostingRegressor\n",
    "\n",
    "\n",
    "\n",
    "\n",
    "    regressors = {\n",
    "    'Linear Regression' : LinearRegression(),\n",
    "    'Decision Tree' : DecisionTreeRegressor(),\n",
    "    'Random Forest' : RandomForestRegressor(n_estimators=100,random_state=1,n_jobs=-1),\n",
    "    'K-nearest Neighbors' : KNeighborsRegressor(n_neighbors=1),\n",
    "    'Gradient Boost' : GradientBoostingRegressor()\n",
    "    }\n",
    "    results=pd.DataFrame(columns=['MAE','MSE','R2-score'])\n",
    "    for method,func in regressors.items():\n",
    "        model = func.fit(X_train,y_train)\n",
    "        pred = model.predict(X_test)\n",
    "        results.loc[method]= [np.round(mean_absolute_error(y_test,pred),3),\n",
    "                            np.round(mean_squared_error(y_test,pred),3),\n",
    "                              np.round(r2_score(y_test,pred),3)\n",
    "                             ]\n",
    "    \n",
    "    \n",
    "    display(results.sort_values('R2-score',ascending=False).style.background_gradient(cmap='Greens',subset=['R2-score']))    "
   ]
  },
  {
   "cell_type": "code",
   "execution_count": 59,
   "id": "e51c13d4",
   "metadata": {},
   "outputs": [
    {
     "name": "stdout",
     "output_type": "stream",
     "text": [
      "Shape of X train: (5445, 10)\n",
      "Shape of Y train: (5445,)\n",
      "Shape of X test: (2683, 10)\n",
      "Shape of Y test: (2683,)\n",
      "--------------------------------------------------------------------------------\n",
      "--------------------------------------------------------------------------------\n"
     ]
    },
    {
     "data": {
      "text/html": [
       "<style type=\"text/css\">\n",
       "#T_cedb6_row0_col2 {\n",
       "  background-color: #00441b;\n",
       "  color: #f1f1f1;\n",
       "}\n",
       "#T_cedb6_row1_col2 {\n",
       "  background-color: #117b38;\n",
       "  color: #f1f1f1;\n",
       "}\n",
       "#T_cedb6_row2_col2 {\n",
       "  background-color: #7fc97f;\n",
       "  color: #000000;\n",
       "}\n",
       "#T_cedb6_row3_col2 {\n",
       "  background-color: #e5f5e1;\n",
       "  color: #000000;\n",
       "}\n",
       "#T_cedb6_row4_col2 {\n",
       "  background-color: #f7fcf5;\n",
       "  color: #000000;\n",
       "}\n",
       "</style>\n",
       "<table id=\"T_cedb6\">\n",
       "  <thead>\n",
       "    <tr>\n",
       "      <th class=\"blank level0\" >&nbsp;</th>\n",
       "      <th id=\"T_cedb6_level0_col0\" class=\"col_heading level0 col0\" >MAE</th>\n",
       "      <th id=\"T_cedb6_level0_col1\" class=\"col_heading level0 col1\" >MSE</th>\n",
       "      <th id=\"T_cedb6_level0_col2\" class=\"col_heading level0 col2\" >R2-score</th>\n",
       "    </tr>\n",
       "  </thead>\n",
       "  <tbody>\n",
       "    <tr>\n",
       "      <th id=\"T_cedb6_level0_row0\" class=\"row_heading level0 row0\" >Random Forest</th>\n",
       "      <td id=\"T_cedb6_row0_col0\" class=\"data row0 col0\" >0.153000</td>\n",
       "      <td id=\"T_cedb6_row0_col1\" class=\"data row0 col1\" >0.052000</td>\n",
       "      <td id=\"T_cedb6_row0_col2\" class=\"data row0 col2\" >0.925000</td>\n",
       "    </tr>\n",
       "    <tr>\n",
       "      <th id=\"T_cedb6_level0_row1\" class=\"row_heading level0 row1\" >Gradient Boost</th>\n",
       "      <td id=\"T_cedb6_row1_col0\" class=\"data row1 col0\" >0.183000</td>\n",
       "      <td id=\"T_cedb6_row1_col1\" class=\"data row1 col1\" >0.063000</td>\n",
       "      <td id=\"T_cedb6_row1_col2\" class=\"data row1 col2\" >0.910000</td>\n",
       "    </tr>\n",
       "    <tr>\n",
       "      <th id=\"T_cedb6_level0_row2\" class=\"row_heading level0 row2\" >Decision Tree</th>\n",
       "      <td id=\"T_cedb6_row2_col0\" class=\"data row2 col0\" >0.187000</td>\n",
       "      <td id=\"T_cedb6_row2_col1\" class=\"data row2 col1\" >0.083000</td>\n",
       "      <td id=\"T_cedb6_row2_col2\" class=\"data row2 col2\" >0.882000</td>\n",
       "    </tr>\n",
       "    <tr>\n",
       "      <th id=\"T_cedb6_level0_row3\" class=\"row_heading level0 row3\" >Linear Regression</th>\n",
       "      <td id=\"T_cedb6_row3_col0\" class=\"data row3 col0\" >0.246000</td>\n",
       "      <td id=\"T_cedb6_row3_col1\" class=\"data row3 col1\" >0.102000</td>\n",
       "      <td id=\"T_cedb6_row3_col2\" class=\"data row3 col2\" >0.854000</td>\n",
       "    </tr>\n",
       "    <tr>\n",
       "      <th id=\"T_cedb6_level0_row4\" class=\"row_heading level0 row4\" >K-nearest Neighbors</th>\n",
       "      <td id=\"T_cedb6_row4_col0\" class=\"data row4 col0\" >0.215000</td>\n",
       "      <td id=\"T_cedb6_row4_col1\" class=\"data row4 col1\" >0.109000</td>\n",
       "      <td id=\"T_cedb6_row4_col2\" class=\"data row4 col2\" >0.844000</td>\n",
       "    </tr>\n",
       "  </tbody>\n",
       "</table>\n"
      ],
      "text/plain": [
       "<pandas.io.formats.style.Styler at 0x239ec722cd0>"
      ]
     },
     "metadata": {},
     "output_type": "display_data"
    }
   ],
   "source": [
    "all_regression_model(X_scaled, y)"
   ]
  },
  {
   "cell_type": "code",
   "execution_count": null,
   "id": "180046c2",
   "metadata": {},
   "outputs": [],
   "source": []
  },
  {
   "cell_type": "code",
   "execution_count": null,
   "id": "4b7aaa3f",
   "metadata": {},
   "outputs": [],
   "source": []
  },
  {
   "cell_type": "code",
   "execution_count": null,
   "id": "7da82914",
   "metadata": {},
   "outputs": [],
   "source": []
  }
 ],
 "metadata": {
  "kernelspec": {
   "display_name": "Python 3 (ipykernel)",
   "language": "python",
   "name": "python3"
  },
  "language_info": {
   "codemirror_mode": {
    "name": "ipython",
    "version": 3
   },
   "file_extension": ".py",
   "mimetype": "text/x-python",
   "name": "python",
   "nbconvert_exporter": "python",
   "pygments_lexer": "ipython3",
   "version": "3.9.13"
  }
 },
 "nbformat": 4,
 "nbformat_minor": 5
}
